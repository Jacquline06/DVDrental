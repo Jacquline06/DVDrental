{
 "cells": [
  {
   "cell_type": "code",
   "execution_count": 2,
   "metadata": {},
   "outputs": [
    {
     "name": "stdout",
     "output_type": "stream",
     "text": [
      "Requirement already satisfied: pandas in c:\\users\\jacquline\\onedrive\\desktop\\dvdrental\\.venv\\lib\\site-packages (2.2.3)Note: you may need to restart the kernel to use updated packages.\n",
      "\n",
      "Requirement already satisfied: numpy>=1.26.0 in c:\\users\\jacquline\\onedrive\\desktop\\dvdrental\\.venv\\lib\\site-packages (from pandas) (1.26.4)\n",
      "Requirement already satisfied: python-dateutil>=2.8.2 in c:\\users\\jacquline\\onedrive\\desktop\\dvdrental\\.venv\\lib\\site-packages (from pandas) (2.9.0.post0)\n",
      "Requirement already satisfied: pytz>=2020.1 in c:\\users\\jacquline\\onedrive\\desktop\\dvdrental\\.venv\\lib\\site-packages (from pandas) (2024.2)\n",
      "Requirement already satisfied: tzdata>=2022.7 in c:\\users\\jacquline\\onedrive\\desktop\\dvdrental\\.venv\\lib\\site-packages (from pandas) (2024.2)\n",
      "Requirement already satisfied: six>=1.5 in c:\\users\\jacquline\\onedrive\\desktop\\dvdrental\\.venv\\lib\\site-packages (from python-dateutil>=2.8.2->pandas) (1.16.0)\n"
     ]
    }
   ],
   "source": [
    "pip install pandas"
   ]
  },
  {
   "cell_type": "code",
   "execution_count": 3,
   "metadata": {},
   "outputs": [
    {
     "name": "stdout",
     "output_type": "stream",
     "text": [
      "Collecting ipykernel\n",
      "  Using cached ipykernel-6.29.5-py3-none-any.whl.metadata (6.3 kB)\n",
      "Collecting comm>=0.1.1 (from ipykernel)\n",
      "  Using cached comm-0.2.2-py3-none-any.whl.metadata (3.7 kB)\n",
      "Collecting debugpy>=1.6.5 (from ipykernel)\n",
      "  Using cached debugpy-1.8.6-cp312-cp312-win_amd64.whl.metadata (1.1 kB)\n",
      "Collecting ipython>=7.23.1 (from ipykernel)\n",
      "  Using cached ipython-8.28.0-py3-none-any.whl.metadata (5.0 kB)\n",
      "Collecting jupyter-client>=6.1.12 (from ipykernel)\n",
      "  Using cached jupyter_client-8.6.3-py3-none-any.whl.metadata (8.3 kB)\n",
      "Collecting jupyter-core!=5.0.*,>=4.12 (from ipykernel)\n",
      "  Using cached jupyter_core-5.7.2-py3-none-any.whl.metadata (3.4 kB)\n",
      "Collecting matplotlib-inline>=0.1 (from ipykernel)\n",
      "  Using cached matplotlib_inline-0.1.7-py3-none-any.whl.metadata (3.9 kB)\n",
      "Collecting nest-asyncio (from ipykernel)\n",
      "  Using cached nest_asyncio-1.6.0-py3-none-any.whl.metadata (2.8 kB)\n",
      "Collecting packaging (from ipykernel)\n",
      "  Using cached packaging-24.1-py3-none-any.whl.metadata (3.2 kB)\n",
      "Collecting psutil (from ipykernel)\n",
      "  Using cached psutil-6.0.0-cp37-abi3-win_amd64.whl.metadata (22 kB)\n",
      "Collecting pyzmq>=24 (from ipykernel)\n",
      "  Using cached pyzmq-26.2.0-cp312-cp312-win_amd64.whl.metadata (6.2 kB)\n",
      "Collecting tornado>=6.1 (from ipykernel)\n",
      "  Using cached tornado-6.4.1-cp38-abi3-win_amd64.whl.metadata (2.6 kB)\n",
      "Collecting traitlets>=5.4.0 (from ipykernel)\n",
      "  Using cached traitlets-5.14.3-py3-none-any.whl.metadata (10 kB)\n",
      "Collecting decorator (from ipython>=7.23.1->ipykernel)\n",
      "  Using cached decorator-5.1.1-py3-none-any.whl.metadata (4.0 kB)\n",
      "Collecting jedi>=0.16 (from ipython>=7.23.1->ipykernel)\n",
      "  Using cached jedi-0.19.1-py2.py3-none-any.whl.metadata (22 kB)\n",
      "Collecting prompt-toolkit<3.1.0,>=3.0.41 (from ipython>=7.23.1->ipykernel)\n",
      "  Using cached prompt_toolkit-3.0.48-py3-none-any.whl.metadata (6.4 kB)\n",
      "Collecting pygments>=2.4.0 (from ipython>=7.23.1->ipykernel)\n",
      "  Using cached pygments-2.18.0-py3-none-any.whl.metadata (2.5 kB)\n",
      "Collecting stack-data (from ipython>=7.23.1->ipykernel)\n",
      "  Using cached stack_data-0.6.3-py3-none-any.whl.metadata (18 kB)\n",
      "Collecting colorama (from ipython>=7.23.1->ipykernel)\n",
      "  Using cached colorama-0.4.6-py2.py3-none-any.whl.metadata (17 kB)\n",
      "Collecting python-dateutil>=2.8.2 (from jupyter-client>=6.1.12->ipykernel)\n",
      "  Using cached python_dateutil-2.9.0.post0-py2.py3-none-any.whl.metadata (8.4 kB)\n",
      "Collecting platformdirs>=2.5 (from jupyter-core!=5.0.*,>=4.12->ipykernel)\n",
      "  Using cached platformdirs-4.3.6-py3-none-any.whl.metadata (11 kB)\n",
      "Collecting pywin32>=300 (from jupyter-core!=5.0.*,>=4.12->ipykernel)\n",
      "  Using cached pywin32-307-cp312-cp312-win_amd64.whl.metadata (8.3 kB)\n",
      "Collecting parso<0.9.0,>=0.8.3 (from jedi>=0.16->ipython>=7.23.1->ipykernel)\n",
      "  Using cached parso-0.8.4-py2.py3-none-any.whl.metadata (7.7 kB)\n",
      "Collecting wcwidth (from prompt-toolkit<3.1.0,>=3.0.41->ipython>=7.23.1->ipykernel)\n",
      "  Using cached wcwidth-0.2.13-py2.py3-none-any.whl.metadata (14 kB)\n",
      "Collecting six>=1.5 (from python-dateutil>=2.8.2->jupyter-client>=6.1.12->ipykernel)\n",
      "  Using cached six-1.16.0-py2.py3-none-any.whl.metadata (1.8 kB)\n",
      "Collecting executing>=1.2.0 (from stack-data->ipython>=7.23.1->ipykernel)\n",
      "  Using cached executing-2.1.0-py2.py3-none-any.whl.metadata (8.9 kB)\n",
      "Collecting asttokens>=2.1.0 (from stack-data->ipython>=7.23.1->ipykernel)\n",
      "  Using cached asttokens-2.4.1-py2.py3-none-any.whl.metadata (5.2 kB)\n",
      "Collecting pure-eval (from stack-data->ipython>=7.23.1->ipykernel)\n",
      "  Using cached pure_eval-0.2.3-py3-none-any.whl.metadata (6.3 kB)\n",
      "Using cached ipykernel-6.29.5-py3-none-any.whl (117 kB)\n",
      "Using cached comm-0.2.2-py3-none-any.whl (7.2 kB)\n",
      "Using cached debugpy-1.8.6-cp312-cp312-win_amd64.whl (5.2 MB)\n",
      "Using cached ipython-8.28.0-py3-none-any.whl (819 kB)\n",
      "Using cached jupyter_client-8.6.3-py3-none-any.whl (106 kB)\n",
      "Using cached jupyter_core-5.7.2-py3-none-any.whl (28 kB)\n",
      "Using cached matplotlib_inline-0.1.7-py3-none-any.whl (9.9 kB)\n",
      "Using cached pyzmq-26.2.0-cp312-cp312-win_amd64.whl (637 kB)\n",
      "Using cached tornado-6.4.1-cp38-abi3-win_amd64.whl (438 kB)\n",
      "Using cached traitlets-5.14.3-py3-none-any.whl (85 kB)\n",
      "Using cached nest_asyncio-1.6.0-py3-none-any.whl (5.2 kB)\n",
      "Using cached packaging-24.1-py3-none-any.whl (53 kB)\n",
      "Using cached psutil-6.0.0-cp37-abi3-win_amd64.whl (257 kB)\n",
      "Using cached jedi-0.19.1-py2.py3-none-any.whl (1.6 MB)\n",
      "Using cached platformdirs-4.3.6-py3-none-any.whl (18 kB)\n",
      "Using cached prompt_toolkit-3.0.48-py3-none-any.whl (386 kB)\n",
      "Using cached pygments-2.18.0-py3-none-any.whl (1.2 MB)\n",
      "Using cached python_dateutil-2.9.0.post0-py2.py3-none-any.whl (229 kB)\n",
      "Using cached pywin32-307-cp312-cp312-win_amd64.whl (6.5 MB)\n",
      "Using cached colorama-0.4.6-py2.py3-none-any.whl (25 kB)\n",
      "Using cached decorator-5.1.1-py3-none-any.whl (9.1 kB)\n",
      "Using cached stack_data-0.6.3-py3-none-any.whl (24 kB)\n",
      "Using cached asttokens-2.4.1-py2.py3-none-any.whl (27 kB)\n",
      "Using cached executing-2.1.0-py2.py3-none-any.whl (25 kB)\n",
      "Using cached parso-0.8.4-py2.py3-none-any.whl (103 kB)\n",
      "Using cached six-1.16.0-py2.py3-none-any.whl (11 kB)\n",
      "Using cached pure_eval-0.2.3-py3-none-any.whl (11 kB)\n",
      "Using cached wcwidth-0.2.13-py2.py3-none-any.whl (34 kB)\n",
      "Installing collected packages: wcwidth, pywin32, pure-eval, traitlets, tornado, six, pyzmq, pygments, psutil, prompt-toolkit, platformdirs, parso, packaging, nest-asyncio, executing, decorator, debugpy, colorama, python-dateutil, matplotlib-inline, jupyter-core, jedi, comm, asttokens, stack-data, jupyter-client, ipython, ipykernel\n",
      "  Attempting uninstall: wcwidth\n",
      "    Found existing installation: wcwidth 0.2.13\n",
      "    Uninstalling wcwidth-0.2.13:\n",
      "      Successfully uninstalled wcwidth-0.2.13\n",
      "  Attempting uninstall: pywin32\n",
      "    Found existing installation: pywin32 307\n",
      "    Uninstalling pywin32-307:\n",
      "      Successfully uninstalled pywin32-307\n",
      "  Attempting uninstall: pure-eval\n",
      "    Found existing installation: pure_eval 0.2.3\n",
      "    Uninstalling pure_eval-0.2.3:\n",
      "      Successfully uninstalled pure_eval-0.2.3\n",
      "  Attempting uninstall: traitlets\n",
      "    Found existing installation: traitlets 5.14.3\n",
      "    Uninstalling traitlets-5.14.3:\n",
      "      Successfully uninstalled traitlets-5.14.3\n",
      "  Attempting uninstall: tornado\n",
      "    Found existing installation: tornado 6.4.1\n",
      "    Uninstalling tornado-6.4.1:\n",
      "      Successfully uninstalled tornado-6.4.1\n",
      "  Attempting uninstall: six\n",
      "    Found existing installation: six 1.16.0\n",
      "    Uninstalling six-1.16.0:\n",
      "      Successfully uninstalled six-1.16.0\n",
      "  Attempting uninstall: pyzmq\n",
      "    Found existing installation: pyzmq 26.2.0\n",
      "    Uninstalling pyzmq-26.2.0:\n",
      "      Successfully uninstalled pyzmq-26.2.0\n",
      "  Attempting uninstall: pygments\n",
      "    Found existing installation: Pygments 2.18.0\n",
      "    Uninstalling Pygments-2.18.0:\n",
      "      Successfully uninstalled Pygments-2.18.0\n",
      "  Attempting uninstall: psutil\n",
      "    Found existing installation: psutil 6.0.0\n",
      "    Uninstalling psutil-6.0.0:\n",
      "      Successfully uninstalled psutil-6.0.0\n",
      "  Attempting uninstall: prompt-toolkit\n",
      "    Found existing installation: prompt_toolkit 3.0.48\n",
      "    Uninstalling prompt_toolkit-3.0.48:\n",
      "      Successfully uninstalled prompt_toolkit-3.0.48\n",
      "  Attempting uninstall: platformdirs\n",
      "    Found existing installation: platformdirs 4.3.6\n",
      "    Uninstalling platformdirs-4.3.6:\n",
      "      Successfully uninstalled platformdirs-4.3.6\n",
      "  Attempting uninstall: parso\n",
      "    Found existing installation: parso 0.8.4\n",
      "    Uninstalling parso-0.8.4:\n",
      "      Successfully uninstalled parso-0.8.4\n",
      "  Attempting uninstall: packaging\n",
      "    Found existing installation: packaging 24.1\n",
      "    Uninstalling packaging-24.1:\n",
      "      Successfully uninstalled packaging-24.1\n",
      "  Attempting uninstall: nest-asyncio\n",
      "    Found existing installation: nest-asyncio 1.6.0\n",
      "    Uninstalling nest-asyncio-1.6.0:\n",
      "      Successfully uninstalled nest-asyncio-1.6.0\n",
      "  Attempting uninstall: executing\n",
      "    Found existing installation: executing 2.1.0\n",
      "    Uninstalling executing-2.1.0:\n",
      "      Successfully uninstalled executing-2.1.0\n",
      "  Attempting uninstall: decorator\n",
      "    Found existing installation: decorator 5.1.1\n",
      "    Uninstalling decorator-5.1.1:\n",
      "      Successfully uninstalled decorator-5.1.1\n",
      "  Attempting uninstall: debugpy\n",
      "    Found existing installation: debugpy 1.8.6\n",
      "    Uninstalling debugpy-1.8.6:\n",
      "      Successfully uninstalled debugpy-1.8.6\n",
      "  Attempting uninstall: colorama\n",
      "    Found existing installation: colorama 0.4.6\n",
      "    Uninstalling colorama-0.4.6:\n",
      "      Successfully uninstalled colorama-0.4.6\n",
      "  Attempting uninstall: python-dateutil\n",
      "    Found existing installation: python-dateutil 2.9.0.post0\n",
      "    Uninstalling python-dateutil-2.9.0.post0:\n",
      "      Successfully uninstalled python-dateutil-2.9.0.post0\n",
      "  Attempting uninstall: matplotlib-inline\n",
      "    Found existing installation: matplotlib-inline 0.1.7\n",
      "    Uninstalling matplotlib-inline-0.1.7:\n",
      "      Successfully uninstalled matplotlib-inline-0.1.7\n",
      "  Attempting uninstall: jupyter-core\n",
      "    Found existing installation: jupyter_core 5.7.2\n",
      "    Uninstalling jupyter_core-5.7.2:\n",
      "      Successfully uninstalled jupyter_core-5.7.2\n",
      "  Attempting uninstall: jedi\n",
      "    Found existing installation: jedi 0.19.1\n",
      "    Uninstalling jedi-0.19.1:\n",
      "      Successfully uninstalled jedi-0.19.1\n",
      "  Attempting uninstall: comm\n",
      "    Found existing installation: comm 0.2.2\n",
      "    Uninstalling comm-0.2.2:\n",
      "      Successfully uninstalled comm-0.2.2\n",
      "  Attempting uninstall: asttokens\n",
      "    Found existing installation: asttokens 2.4.1\n",
      "    Uninstalling asttokens-2.4.1:\n",
      "      Successfully uninstalled asttokens-2.4.1\n",
      "  Attempting uninstall: stack-data\n",
      "    Found existing installation: stack-data 0.6.3\n",
      "    Uninstalling stack-data-0.6.3:\n",
      "      Successfully uninstalled stack-data-0.6.3\n",
      "  Attempting uninstall: jupyter-client\n",
      "    Found existing installation: jupyter_client 8.6.3\n",
      "    Uninstalling jupyter_client-8.6.3:\n",
      "      Successfully uninstalled jupyter_client-8.6.3\n",
      "  Attempting uninstall: ipython\n",
      "    Found existing installation: ipython 8.28.0\n",
      "    Uninstalling ipython-8.28.0:\n",
      "      Successfully uninstalled ipython-8.28.0\n",
      "  Attempting uninstall: ipykernel\n",
      "    Found existing installation: ipykernel 6.29.5\n",
      "    Uninstalling ipykernel-6.29.5:\n",
      "      Successfully uninstalled ipykernel-6.29.5\n",
      "Successfully installed asttokens-2.4.1 colorama-0.4.6 comm-0.2.2 debugpy-1.8.6 decorator-5.1.1 executing-2.1.0 ipykernel-6.29.5 ipython-8.28.0 jedi-0.19.1 jupyter-client-8.6.3 jupyter-core-5.7.2 matplotlib-inline-0.1.7 nest-asyncio-1.6.0 packaging-24.1 parso-0.8.4 platformdirs-4.3.6 prompt-toolkit-3.0.48 psutil-6.0.0 pure-eval-0.2.3 pygments-2.18.0 python-dateutil-2.9.0.post0 pywin32-307 pyzmq-26.2.0 six-1.16.0 stack-data-0.6.3 tornado-6.4.1 traitlets-5.14.3 wcwidth-0.2.13\n",
      "Note: you may need to restart the kernel to use updated packages.\n"
     ]
    },
    {
     "name": "stderr",
     "output_type": "stream",
     "text": [
      "  WARNING: Failed to remove contents in a temporary directory 'C:\\Users\\Jacquline\\OneDrive\\Desktop\\DVDrental\\.venv\\Lib\\site-packages\\~~rnado'.\n",
      "  You can safely remove it manually.\n",
      "  WARNING: Failed to remove contents in a temporary directory 'C:\\Users\\Jacquline\\OneDrive\\Desktop\\DVDrental\\.venv\\Lib\\site-packages\\~~q'.\n",
      "  You can safely remove it manually.\n",
      "  WARNING: Failed to remove contents in a temporary directory 'C:\\Users\\Jacquline\\OneDrive\\Desktop\\DVDrental\\.venv\\Lib\\site-packages\\~~util'.\n",
      "  You can safely remove it manually.\n",
      "  WARNING: Failed to remove contents in a temporary directory 'C:\\Users\\Jacquline\\OneDrive\\Desktop\\DVDrental\\.venv\\Lib\\site-packages\\~~bugpy'.\n",
      "  You can safely remove it manually.\n"
     ]
    }
   ],
   "source": [
    "pip install ipykernel -U --force-reinstall"
   ]
  },
  {
   "cell_type": "code",
   "execution_count": 2,
   "metadata": {},
   "outputs": [],
   "source": [
    "import pandas as pd"
   ]
  },
  {
   "cell_type": "code",
   "execution_count": 20,
   "metadata": {},
   "outputs": [
    {
     "data": {
      "text/html": [
       "<div>\n",
       "<style scoped>\n",
       "    .dataframe tbody tr th:only-of-type {\n",
       "        vertical-align: middle;\n",
       "    }\n",
       "\n",
       "    .dataframe tbody tr th {\n",
       "        vertical-align: top;\n",
       "    }\n",
       "\n",
       "    .dataframe thead th {\n",
       "        text-align: right;\n",
       "    }\n",
       "</style>\n",
       "<table border=\"1\" class=\"dataframe\">\n",
       "  <thead>\n",
       "    <tr style=\"text-align: right;\">\n",
       "      <th></th>\n",
       "      <th>inventory_id</th>\n",
       "      <th>film_id</th>\n",
       "      <th>title</th>\n",
       "      <th>rental_duration</th>\n",
       "      <th>rental_rate</th>\n",
       "      <th>length</th>\n",
       "      <th>replacement_cost</th>\n",
       "      <th>rating</th>\n",
       "      <th>category</th>\n",
       "      <th>language</th>\n",
       "      <th>store_id</th>\n",
       "      <th>rental_id</th>\n",
       "      <th>rental_date</th>\n",
       "      <th>customer_id</th>\n",
       "      <th>return_date</th>\n",
       "      <th>amount</th>\n",
       "      <th>active</th>\n",
       "    </tr>\n",
       "  </thead>\n",
       "  <tbody>\n",
       "    <tr>\n",
       "      <th>0</th>\n",
       "      <td>3419</td>\n",
       "      <td>749</td>\n",
       "      <td>Rules Human</td>\n",
       "      <td>6</td>\n",
       "      <td>4.99</td>\n",
       "      <td>153</td>\n",
       "      <td>19.99</td>\n",
       "      <td>R</td>\n",
       "      <td>Horror</td>\n",
       "      <td>English</td>\n",
       "      <td>1</td>\n",
       "      <td>1520</td>\n",
       "      <td>2005-06-15 23:57:20</td>\n",
       "      <td>341</td>\n",
       "      <td>2005-06-24 23:46:20</td>\n",
       "      <td>7.99</td>\n",
       "      <td>1</td>\n",
       "    </tr>\n",
       "    <tr>\n",
       "      <th>1</th>\n",
       "      <td>2512</td>\n",
       "      <td>552</td>\n",
       "      <td>Majestic Floats</td>\n",
       "      <td>5</td>\n",
       "      <td>0.99</td>\n",
       "      <td>130</td>\n",
       "      <td>15.99</td>\n",
       "      <td>PG</td>\n",
       "      <td>Documentary</td>\n",
       "      <td>English</td>\n",
       "      <td>2</td>\n",
       "      <td>1778</td>\n",
       "      <td>2005-06-16 18:54:48</td>\n",
       "      <td>341</td>\n",
       "      <td>2005-06-22 16:08:48</td>\n",
       "      <td>1.99</td>\n",
       "      <td>1</td>\n",
       "    </tr>\n",
       "    <tr>\n",
       "      <th>2</th>\n",
       "      <td>2507</td>\n",
       "      <td>551</td>\n",
       "      <td>Maiden Home</td>\n",
       "      <td>3</td>\n",
       "      <td>4.99</td>\n",
       "      <td>138</td>\n",
       "      <td>9.99</td>\n",
       "      <td>PG</td>\n",
       "      <td>New</td>\n",
       "      <td>English</td>\n",
       "      <td>1</td>\n",
       "      <td>1849</td>\n",
       "      <td>2005-06-17 00:13:19</td>\n",
       "      <td>341</td>\n",
       "      <td>2005-06-23 18:37:19</td>\n",
       "      <td>7.99</td>\n",
       "      <td>1</td>\n",
       "    </tr>\n",
       "    <tr>\n",
       "      <th>3</th>\n",
       "      <td>2047</td>\n",
       "      <td>445</td>\n",
       "      <td>Hyde Doctor</td>\n",
       "      <td>5</td>\n",
       "      <td>2.99</td>\n",
       "      <td>100</td>\n",
       "      <td>11.99</td>\n",
       "      <td>G</td>\n",
       "      <td>Classics</td>\n",
       "      <td>English</td>\n",
       "      <td>1</td>\n",
       "      <td>2829</td>\n",
       "      <td>2005-06-19 21:11:30</td>\n",
       "      <td>341</td>\n",
       "      <td>2005-06-24 18:10:30</td>\n",
       "      <td>2.99</td>\n",
       "      <td>1</td>\n",
       "    </tr>\n",
       "    <tr>\n",
       "      <th>4</th>\n",
       "      <td>2569</td>\n",
       "      <td>563</td>\n",
       "      <td>Massacre Usual</td>\n",
       "      <td>6</td>\n",
       "      <td>4.99</td>\n",
       "      <td>165</td>\n",
       "      <td>16.99</td>\n",
       "      <td>R</td>\n",
       "      <td>Games</td>\n",
       "      <td>English</td>\n",
       "      <td>1</td>\n",
       "      <td>3130</td>\n",
       "      <td>2005-06-20 19:03:22</td>\n",
       "      <td>341</td>\n",
       "      <td>2005-06-29 18:05:22</td>\n",
       "      <td>7.99</td>\n",
       "      <td>1</td>\n",
       "    </tr>\n",
       "    <tr>\n",
       "      <th>...</th>\n",
       "      <td>...</td>\n",
       "      <td>...</td>\n",
       "      <td>...</td>\n",
       "      <td>...</td>\n",
       "      <td>...</td>\n",
       "      <td>...</td>\n",
       "      <td>...</td>\n",
       "      <td>...</td>\n",
       "      <td>...</td>\n",
       "      <td>...</td>\n",
       "      <td>...</td>\n",
       "      <td>...</td>\n",
       "      <td>...</td>\n",
       "      <td>...</td>\n",
       "      <td>...</td>\n",
       "      <td>...</td>\n",
       "      <td>...</td>\n",
       "    </tr>\n",
       "    <tr>\n",
       "      <th>14591</th>\n",
       "      <td>1148</td>\n",
       "      <td>254</td>\n",
       "      <td>Driver Annie</td>\n",
       "      <td>4</td>\n",
       "      <td>2.99</td>\n",
       "      <td>159</td>\n",
       "      <td>11.99</td>\n",
       "      <td>PG-13</td>\n",
       "      <td>Sports</td>\n",
       "      <td>English</td>\n",
       "      <td>1</td>\n",
       "      <td>12682</td>\n",
       "      <td>2006-02-14 15:16:03</td>\n",
       "      <td>245</td>\n",
       "      <td>NaN</td>\n",
       "      <td>2.99</td>\n",
       "      <td>1</td>\n",
       "    </tr>\n",
       "    <tr>\n",
       "      <th>14592</th>\n",
       "      <td>3998</td>\n",
       "      <td>870</td>\n",
       "      <td>Swarm Gold</td>\n",
       "      <td>4</td>\n",
       "      <td>0.99</td>\n",
       "      <td>123</td>\n",
       "      <td>12.99</td>\n",
       "      <td>PG-13</td>\n",
       "      <td>Horror</td>\n",
       "      <td>English</td>\n",
       "      <td>2</td>\n",
       "      <td>14107</td>\n",
       "      <td>2006-02-14 15:16:03</td>\n",
       "      <td>251</td>\n",
       "      <td>NaN</td>\n",
       "      <td>0.99</td>\n",
       "      <td>1</td>\n",
       "    </tr>\n",
       "    <tr>\n",
       "      <th>14593</th>\n",
       "      <td>1146</td>\n",
       "      <td>253</td>\n",
       "      <td>Drifter Commandments</td>\n",
       "      <td>5</td>\n",
       "      <td>4.99</td>\n",
       "      <td>61</td>\n",
       "      <td>18.99</td>\n",
       "      <td>PG-13</td>\n",
       "      <td>Action</td>\n",
       "      <td>English</td>\n",
       "      <td>2</td>\n",
       "      <td>13756</td>\n",
       "      <td>2006-02-14 15:16:03</td>\n",
       "      <td>252</td>\n",
       "      <td>NaN</td>\n",
       "      <td>4.99</td>\n",
       "      <td>1</td>\n",
       "    </tr>\n",
       "    <tr>\n",
       "      <th>14594</th>\n",
       "      <td>1219</td>\n",
       "      <td>270</td>\n",
       "      <td>Earth Vision</td>\n",
       "      <td>7</td>\n",
       "      <td>0.99</td>\n",
       "      <td>85</td>\n",
       "      <td>29.99</td>\n",
       "      <td>NC-17</td>\n",
       "      <td>New</td>\n",
       "      <td>English</td>\n",
       "      <td>2</td>\n",
       "      <td>15293</td>\n",
       "      <td>2006-02-14 15:16:03</td>\n",
       "      <td>263</td>\n",
       "      <td>NaN</td>\n",
       "      <td>0.99</td>\n",
       "      <td>1</td>\n",
       "    </tr>\n",
       "    <tr>\n",
       "      <th>14595</th>\n",
       "      <td>1489</td>\n",
       "      <td>326</td>\n",
       "      <td>Flying Hook</td>\n",
       "      <td>6</td>\n",
       "      <td>2.99</td>\n",
       "      <td>69</td>\n",
       "      <td>18.99</td>\n",
       "      <td>NC-17</td>\n",
       "      <td>Animation</td>\n",
       "      <td>English</td>\n",
       "      <td>2</td>\n",
       "      <td>14243</td>\n",
       "      <td>2006-02-14 15:16:03</td>\n",
       "      <td>264</td>\n",
       "      <td>NaN</td>\n",
       "      <td>2.99</td>\n",
       "      <td>1</td>\n",
       "    </tr>\n",
       "  </tbody>\n",
       "</table>\n",
       "<p>14596 rows × 17 columns</p>\n",
       "</div>"
      ],
      "text/plain": [
       "       inventory_id  film_id                 title  rental_duration  \\\n",
       "0              3419      749           Rules Human                6   \n",
       "1              2512      552       Majestic Floats                5   \n",
       "2              2507      551           Maiden Home                3   \n",
       "3              2047      445           Hyde Doctor                5   \n",
       "4              2569      563        Massacre Usual                6   \n",
       "...             ...      ...                   ...              ...   \n",
       "14591          1148      254          Driver Annie                4   \n",
       "14592          3998      870            Swarm Gold                4   \n",
       "14593          1146      253  Drifter Commandments                5   \n",
       "14594          1219      270          Earth Vision                7   \n",
       "14595          1489      326           Flying Hook                6   \n",
       "\n",
       "       rental_rate  length  replacement_cost rating     category  \\\n",
       "0             4.99     153             19.99      R       Horror   \n",
       "1             0.99     130             15.99     PG  Documentary   \n",
       "2             4.99     138              9.99     PG          New   \n",
       "3             2.99     100             11.99      G     Classics   \n",
       "4             4.99     165             16.99      R        Games   \n",
       "...            ...     ...               ...    ...          ...   \n",
       "14591         2.99     159             11.99  PG-13       Sports   \n",
       "14592         0.99     123             12.99  PG-13       Horror   \n",
       "14593         4.99      61             18.99  PG-13       Action   \n",
       "14594         0.99      85             29.99  NC-17          New   \n",
       "14595         2.99      69             18.99  NC-17    Animation   \n",
       "\n",
       "                   language  store_id  rental_id          rental_date  \\\n",
       "0      English                      1       1520  2005-06-15 23:57:20   \n",
       "1      English                      2       1778  2005-06-16 18:54:48   \n",
       "2      English                      1       1849  2005-06-17 00:13:19   \n",
       "3      English                      1       2829  2005-06-19 21:11:30   \n",
       "4      English                      1       3130  2005-06-20 19:03:22   \n",
       "...                     ...       ...        ...                  ...   \n",
       "14591  English                      1      12682  2006-02-14 15:16:03   \n",
       "14592  English                      2      14107  2006-02-14 15:16:03   \n",
       "14593  English                      2      13756  2006-02-14 15:16:03   \n",
       "14594  English                      2      15293  2006-02-14 15:16:03   \n",
       "14595  English                      2      14243  2006-02-14 15:16:03   \n",
       "\n",
       "       customer_id          return_date  amount  active  \n",
       "0              341  2005-06-24 23:46:20    7.99       1  \n",
       "1              341  2005-06-22 16:08:48    1.99       1  \n",
       "2              341  2005-06-23 18:37:19    7.99       1  \n",
       "3              341  2005-06-24 18:10:30    2.99       1  \n",
       "4              341  2005-06-29 18:05:22    7.99       1  \n",
       "...            ...                  ...     ...     ...  \n",
       "14591          245                  NaN    2.99       1  \n",
       "14592          251                  NaN    0.99       1  \n",
       "14593          252                  NaN    4.99       1  \n",
       "14594          263                  NaN    0.99       1  \n",
       "14595          264                  NaN    2.99       1  \n",
       "\n",
       "[14596 rows x 17 columns]"
      ]
     },
     "execution_count": 20,
     "metadata": {},
     "output_type": "execute_result"
    }
   ],
   "source": [
    "df=pd.read_csv(\"data.csv\")\n",
    "df"
   ]
  },
  {
   "cell_type": "code",
   "execution_count": 6,
   "metadata": {},
   "outputs": [
    {
     "data": {
      "text/plain": [
       "inventory_id          0\n",
       "film_id               0\n",
       "title                 0\n",
       "rental_duration       0\n",
       "rental_rate           0\n",
       "length                0\n",
       "replacement_cost      0\n",
       "rating                0\n",
       "category              0\n",
       "language              0\n",
       "store_id              0\n",
       "rental_id             0\n",
       "rental_date           0\n",
       "customer_id           0\n",
       "return_date         183\n",
       "amount                0\n",
       "active                0\n",
       "dtype: int64"
      ]
     },
     "execution_count": 6,
     "metadata": {},
     "output_type": "execute_result"
    }
   ],
   "source": [
    "df.isnull().sum()"
   ]
  },
  {
   "cell_type": "code",
   "execution_count": 21,
   "metadata": {},
   "outputs": [
    {
     "data": {
      "text/plain": [
       "inventory_id          0\n",
       "film_id               0\n",
       "title                 0\n",
       "rental_duration       0\n",
       "rental_rate           0\n",
       "length                0\n",
       "replacement_cost      0\n",
       "rating                0\n",
       "category              0\n",
       "language              0\n",
       "store_id              0\n",
       "rental_id             0\n",
       "rental_date           0\n",
       "customer_id           0\n",
       "return_date         183\n",
       "amount                0\n",
       "active                0\n",
       "dtype: int64"
      ]
     },
     "execution_count": 21,
     "metadata": {},
     "output_type": "execute_result"
    }
   ],
   "source": [
    "df.isnull().sum()"
   ]
  },
  {
   "cell_type": "code",
   "execution_count": 9,
   "metadata": {},
   "outputs": [
    {
     "data": {
      "text/plain": [
       "language\n",
       "English                 14413\n",
       "Name: count, dtype: int64"
      ]
     },
     "execution_count": 9,
     "metadata": {},
     "output_type": "execute_result"
    }
   ],
   "source": [
    "df[\"language\"].value_counts()"
   ]
  },
  {
   "cell_type": "code",
   "execution_count": 22,
   "metadata": {},
   "outputs": [],
   "source": [
    "df.drop(columns=\"language\",inplace=True)"
   ]
  },
  {
   "cell_type": "code",
   "execution_count": 23,
   "metadata": {},
   "outputs": [
    {
     "data": {
      "text/plain": [
       "Index(['inventory_id', 'film_id', 'title', 'rental_duration', 'rental_rate',\n",
       "       'length', 'replacement_cost', 'rating', 'category', 'store_id',\n",
       "       'rental_id', 'rental_date', 'customer_id', 'return_date', 'amount',\n",
       "       'active'],\n",
       "      dtype='object')"
      ]
     },
     "execution_count": 23,
     "metadata": {},
     "output_type": "execute_result"
    }
   ],
   "source": [
    "df.columns"
   ]
  },
  {
   "cell_type": "code",
   "execution_count": 24,
   "metadata": {},
   "outputs": [],
   "source": [
    "\n",
    "# Ensure the rental_date and return_date are in datetime format\n",
    "df['rental_date'] = pd.to_datetime(df['rental_date'])\n",
    "df['return_date'] = pd.to_datetime(df['return_date'])\n",
    "\n",
    "# Calculate the difference in days between return_date and rental_date\n",
    "df['rental_actual_duration'] = (df['return_date'] - df['rental_date']).dt.days"
   ]
  },
  {
   "cell_type": "code",
   "execution_count": 25,
   "metadata": {},
   "outputs": [
    {
     "data": {
      "text/plain": [
       "Index(['inventory_id', 'film_id', 'title', 'rental_duration', 'rental_rate',\n",
       "       'length', 'replacement_cost', 'rating', 'category', 'store_id',\n",
       "       'rental_id', 'rental_date', 'customer_id', 'return_date', 'amount',\n",
       "       'active', 'rental_actual_duration'],\n",
       "      dtype='object')"
      ]
     },
     "execution_count": 25,
     "metadata": {},
     "output_type": "execute_result"
    }
   ],
   "source": [
    "df.columns"
   ]
  },
  {
   "cell_type": "code",
   "execution_count": 26,
   "metadata": {},
   "outputs": [],
   "source": [
    "df.drop('rental_duration', axis=1, inplace=True)\n",
    "df.drop('rental_date', axis=1, inplace=True)\n",
    "df.drop('return_date', axis=1, inplace=True)"
   ]
  },
  {
   "cell_type": "code",
   "execution_count": 27,
   "metadata": {},
   "outputs": [
    {
     "name": "stdout",
     "output_type": "stream",
     "text": [
      "<class 'pandas.core.frame.DataFrame'>\n",
      "RangeIndex: 14596 entries, 0 to 14595\n",
      "Data columns (total 14 columns):\n",
      " #   Column                  Non-Null Count  Dtype  \n",
      "---  ------                  --------------  -----  \n",
      " 0   inventory_id            14596 non-null  int64  \n",
      " 1   film_id                 14596 non-null  int64  \n",
      " 2   title                   14596 non-null  object \n",
      " 3   rental_rate             14596 non-null  float64\n",
      " 4   length                  14596 non-null  int64  \n",
      " 5   replacement_cost        14596 non-null  float64\n",
      " 6   rating                  14596 non-null  object \n",
      " 7   category                14596 non-null  object \n",
      " 8   store_id                14596 non-null  int64  \n",
      " 9   rental_id               14596 non-null  int64  \n",
      " 10  customer_id             14596 non-null  int64  \n",
      " 11  amount                  14596 non-null  float64\n",
      " 12  active                  14596 non-null  int64  \n",
      " 13  rental_actual_duration  14413 non-null  float64\n",
      "dtypes: float64(4), int64(7), object(3)\n",
      "memory usage: 1.6+ MB\n"
     ]
    }
   ],
   "source": [
    "df.info()"
   ]
  },
  {
   "cell_type": "code",
   "execution_count": 28,
   "metadata": {},
   "outputs": [
    {
     "data": {
      "text/plain": [
       "inventory_id                0\n",
       "film_id                     0\n",
       "title                       0\n",
       "rental_rate                 0\n",
       "length                      0\n",
       "replacement_cost            0\n",
       "rating                      0\n",
       "category                    0\n",
       "store_id                    0\n",
       "rental_id                   0\n",
       "customer_id                 0\n",
       "amount                      0\n",
       "active                      0\n",
       "rental_actual_duration    183\n",
       "dtype: int64"
      ]
     },
     "execution_count": 28,
     "metadata": {},
     "output_type": "execute_result"
    }
   ],
   "source": [
    "df.isnull().sum()"
   ]
  },
  {
   "cell_type": "code",
   "execution_count": 29,
   "metadata": {},
   "outputs": [],
   "source": [
    "df.dropna(inplace=True)"
   ]
  },
  {
   "cell_type": "code",
   "execution_count": 30,
   "metadata": {},
   "outputs": [],
   "source": [
    "df.drop(\"title\",axis=1,inplace=True)"
   ]
  },
  {
   "cell_type": "code",
   "execution_count": 31,
   "metadata": {},
   "outputs": [
    {
     "data": {
      "text/plain": [
       "inventory_id               4580\n",
       "film_id                     958\n",
       "rental_rate                   3\n",
       "length                      140\n",
       "replacement_cost             21\n",
       "rating                        5\n",
       "category                     16\n",
       "store_id                      2\n",
       "rental_id                 14409\n",
       "customer_id                 599\n",
       "amount                       12\n",
       "active                        2\n",
       "rental_actual_duration       10\n",
       "dtype: int64"
      ]
     },
     "execution_count": 31,
     "metadata": {},
     "output_type": "execute_result"
    }
   ],
   "source": [
    "df.nunique()"
   ]
  },
  {
   "cell_type": "code",
   "execution_count": 20,
   "metadata": {},
   "outputs": [
    {
     "data": {
      "text/plain": [
       "Index(['inventory_id', 'film_id', 'rental_duration', 'rental_rate', 'length',\n",
       "       'replacement_cost', 'rating', 'category', 'store_id', 'rental_id',\n",
       "       'rental_date', 'customer_id', 'return_date', 'amount', 'active', 'date',\n",
       "       'time', 'year', 'month', 'day'],\n",
       "      dtype='object')"
      ]
     },
     "execution_count": 20,
     "metadata": {},
     "output_type": "execute_result"
    }
   ],
   "source": [
    "df.columns"
   ]
  },
  {
   "cell_type": "code",
   "execution_count": 21,
   "metadata": {},
   "outputs": [
    {
     "data": {
      "text/plain": [
       "0        19.99\n",
       "1        15.99\n",
       "2         9.99\n",
       "3        11.99\n",
       "4        16.99\n",
       "         ...  \n",
       "14409    11.99\n",
       "14410    29.99\n",
       "14411    10.99\n",
       "14412    10.99\n",
       "14413    21.99\n",
       "Name: replacement_cost, Length: 14413, dtype: float64"
      ]
     },
     "execution_count": 21,
     "metadata": {},
     "output_type": "execute_result"
    }
   ],
   "source": [
    "df[\"replacement_cost\"]"
   ]
  },
  {
   "cell_type": "code",
   "execution_count": 22,
   "metadata": {},
   "outputs": [
    {
     "data": {
      "text/plain": [
       "0            R\n",
       "1           PG\n",
       "2           PG\n",
       "3            G\n",
       "4            R\n",
       "         ...  \n",
       "14409    PG-13\n",
       "14410        G\n",
       "14411    PG-13\n",
       "14412    PG-13\n",
       "14413       PG\n",
       "Name: rating, Length: 14413, dtype: object"
      ]
     },
     "execution_count": 22,
     "metadata": {},
     "output_type": "execute_result"
    }
   ],
   "source": [
    "df[\"rating\"]"
   ]
  },
  {
   "cell_type": "code",
   "execution_count": 23,
   "metadata": {},
   "outputs": [
    {
     "data": {
      "text/plain": [
       "rating\n",
       "PG-13    3203\n",
       "NC-17    2964\n",
       "PG       2903\n",
       "R        2868\n",
       "G        2475\n",
       "Name: count, dtype: int64"
      ]
     },
     "execution_count": 23,
     "metadata": {},
     "output_type": "execute_result"
    }
   ],
   "source": [
    "df['rating'].value_counts()"
   ]
  },
  {
   "cell_type": "code",
   "execution_count": 32,
   "metadata": {},
   "outputs": [],
   "source": [
    "df['rating'] = df['rating'].map({\"PG-13\":0,'NC-17':1,'PG':2,'R':3,\"G\":4})"
   ]
  },
  {
   "cell_type": "code",
   "execution_count": 33,
   "metadata": {},
   "outputs": [
    {
     "data": {
      "text/plain": [
       "rating\n",
       "0    3203\n",
       "1    2964\n",
       "2    2903\n",
       "3    2868\n",
       "4    2475\n",
       "Name: count, dtype: int64"
      ]
     },
     "execution_count": 33,
     "metadata": {},
     "output_type": "execute_result"
    }
   ],
   "source": [
    "df['rating'].value_counts()"
   ]
  },
  {
   "cell_type": "code",
   "execution_count": 26,
   "metadata": {},
   "outputs": [
    {
     "data": {
      "text/plain": [
       "0             Horror\n",
       "1        Documentary\n",
       "2                New\n",
       "3           Classics\n",
       "4              Games\n",
       "            ...     \n",
       "14409          Games\n",
       "14410          Drama\n",
       "14411       Children\n",
       "14412         Travel\n",
       "14413          Drama\n",
       "Name: category, Length: 14413, dtype: object"
      ]
     },
     "execution_count": 26,
     "metadata": {},
     "output_type": "execute_result"
    }
   ],
   "source": [
    "df[\"category\"]"
   ]
  },
  {
   "cell_type": "code",
   "execution_count": 11,
   "metadata": {},
   "outputs": [
    {
     "data": {
      "text/plain": [
       "category\n",
       "Sports         1066\n",
       "Animation      1044\n",
       "Action          996\n",
       "Sci-Fi          990\n",
       "Family          975\n",
       "Drama           946\n",
       "Foreign         942\n",
       "Documentary     930\n",
       "Games           870\n",
       "Children        855\n",
       "New             851\n",
       "Classics        851\n",
       "Comedy          842\n",
       "Horror          761\n",
       "Travel          755\n",
       "Music           739\n",
       "Name: count, dtype: int64"
      ]
     },
     "execution_count": 11,
     "metadata": {},
     "output_type": "execute_result"
    }
   ],
   "source": [
    "df['category'].value_counts()"
   ]
  },
  {
   "cell_type": "code",
   "execution_count": 28,
   "metadata": {},
   "outputs": [
    {
     "data": {
      "text/plain": [
       "array(['Horror', 'Documentary', 'New', 'Classics', 'Games', 'Sci-Fi',\n",
       "       'Foreign', 'Family', 'Travel', 'Music', 'Sports', 'Comedy',\n",
       "       'Drama', 'Action', 'Children', 'Animation'], dtype=object)"
      ]
     },
     "execution_count": 28,
     "metadata": {},
     "output_type": "execute_result"
    }
   ],
   "source": [
    "df['category'].unique()"
   ]
  },
  {
   "cell_type": "code",
   "execution_count": 34,
   "metadata": {},
   "outputs": [],
   "source": [
    "df['category'] = df['category'].map({'Horror':0, 'Documentary':1, 'New':2, 'Classics':3, 'Games':4, 'Sci-Fi':5,\n",
    "       'Foreign':6, 'Family':7, 'Travel':8, 'Music':9, 'Sports':10, 'Comedy':11,\n",
    "       'Drama':12, 'Action':13, 'Children':14, 'Animation':15}) #here we are mapping values for every category"
   ]
  },
  {
   "cell_type": "code",
   "execution_count": 35,
   "metadata": {},
   "outputs": [
    {
     "data": {
      "text/plain": [
       "category\n",
       "10    1066\n",
       "15    1044\n",
       "13     996\n",
       "5      990\n",
       "7      975\n",
       "12     946\n",
       "6      942\n",
       "1      930\n",
       "4      870\n",
       "14     855\n",
       "2      851\n",
       "3      851\n",
       "11     842\n",
       "0      761\n",
       "8      755\n",
       "9      739\n",
       "Name: count, dtype: int64"
      ]
     },
     "execution_count": 35,
     "metadata": {},
     "output_type": "execute_result"
    }
   ],
   "source": [
    "df['category'].value_counts()"
   ]
  },
  {
   "cell_type": "code",
   "execution_count": 36,
   "metadata": {},
   "outputs": [],
   "source": [
    "df.drop(['inventory_id','film_id','store_id','rental_id','customer_id'], axis=1, inplace=True)"
   ]
  },
  {
   "cell_type": "code",
   "execution_count": 37,
   "metadata": {},
   "outputs": [
    {
     "data": {
      "text/plain": [
       "Index(['rental_rate', 'length', 'replacement_cost', 'rating', 'category',\n",
       "       'amount', 'active', 'rental_actual_duration'],\n",
       "      dtype='object')"
      ]
     },
     "execution_count": 37,
     "metadata": {},
     "output_type": "execute_result"
    }
   ],
   "source": [
    "df.columns"
   ]
  },
  {
   "cell_type": "code",
   "execution_count": 33,
   "metadata": {},
   "outputs": [
    {
     "name": "stdout",
     "output_type": "stream",
     "text": [
      "Requirement already satisfied: scikit-learn in c:\\users\\jacquline\\onedrive\\desktop\\dvdrental\\.venv\\lib\\site-packages (1.5.2)Note: you may need to restart the kernel to use updated packages.\n",
      "\n",
      "Requirement already satisfied: numpy>=1.19.5 in c:\\users\\jacquline\\onedrive\\desktop\\dvdrental\\.venv\\lib\\site-packages (from scikit-learn) (1.26.4)\n",
      "Requirement already satisfied: scipy>=1.6.0 in c:\\users\\jacquline\\onedrive\\desktop\\dvdrental\\.venv\\lib\\site-packages (from scikit-learn) (1.14.1)\n",
      "Requirement already satisfied: joblib>=1.2.0 in c:\\users\\jacquline\\onedrive\\desktop\\dvdrental\\.venv\\lib\\site-packages (from scikit-learn) (1.4.2)\n",
      "Requirement already satisfied: threadpoolctl>=3.1.0 in c:\\users\\jacquline\\onedrive\\desktop\\dvdrental\\.venv\\lib\\site-packages (from scikit-learn) (3.5.0)\n"
     ]
    }
   ],
   "source": [
    "pip install scikit-learn\n"
   ]
  },
  {
   "cell_type": "code",
   "execution_count": 34,
   "metadata": {},
   "outputs": [],
   "source": [
    "#from sklearn.preprocessing import LabelEncoder"
   ]
  },
  {
   "cell_type": "code",
   "execution_count": 35,
   "metadata": {},
   "outputs": [],
   "source": [
    "##import pickle\n"
   ]
  },
  {
   "cell_type": "code",
   "execution_count": 36,
   "metadata": {},
   "outputs": [],
   "source": [
    "#continuous_column_to_iterate = ['rental_rate', 'replacement_cost']"
   ]
  },
  {
   "cell_type": "code",
   "execution_count": 37,
   "metadata": {},
   "outputs": [],
   "source": [
    "#encoding\n",
    "#encoders_cont = {}\n",
    "#for col in continuous_column_to_iterate:\n",
    "   # encoder = LabelEncoder()\n",
    "    #df[col] = encoder.fit_transform(df[col])\n",
    "    #encoders_cont[col] = encoder\n",
    "\n",
    "#with open('label_encoders.pkl', 'wb') as f:\n",
    "   # pickle.dump(encoders_cont, f)"
   ]
  },
  {
   "cell_type": "code",
   "execution_count": 38,
   "metadata": {},
   "outputs": [
    {
     "data": {
      "text/plain": [
       "(14413, 15)"
      ]
     },
     "execution_count": 38,
     "metadata": {},
     "output_type": "execute_result"
    }
   ],
   "source": [
    "df.shape"
   ]
  },
  {
   "cell_type": "code",
   "execution_count": 39,
   "metadata": {},
   "outputs": [
    {
     "data": {
      "text/html": [
       "<div>\n",
       "<style scoped>\n",
       "    .dataframe tbody tr th:only-of-type {\n",
       "        vertical-align: middle;\n",
       "    }\n",
       "\n",
       "    .dataframe tbody tr th {\n",
       "        vertical-align: top;\n",
       "    }\n",
       "\n",
       "    .dataframe thead th {\n",
       "        text-align: right;\n",
       "    }\n",
       "</style>\n",
       "<table border=\"1\" class=\"dataframe\">\n",
       "  <thead>\n",
       "    <tr style=\"text-align: right;\">\n",
       "      <th></th>\n",
       "      <th>rental_duration</th>\n",
       "      <th>rental_rate</th>\n",
       "      <th>length</th>\n",
       "      <th>replacement_cost</th>\n",
       "      <th>rating</th>\n",
       "      <th>category</th>\n",
       "      <th>rental_date</th>\n",
       "      <th>return_date</th>\n",
       "      <th>amount</th>\n",
       "      <th>active</th>\n",
       "      <th>date</th>\n",
       "      <th>time</th>\n",
       "      <th>year</th>\n",
       "      <th>month</th>\n",
       "      <th>day</th>\n",
       "    </tr>\n",
       "  </thead>\n",
       "  <tbody>\n",
       "    <tr>\n",
       "      <th>0</th>\n",
       "      <td>6</td>\n",
       "      <td>2</td>\n",
       "      <td>153</td>\n",
       "      <td>10</td>\n",
       "      <td>3</td>\n",
       "      <td>0</td>\n",
       "      <td>2005-06-15 23:57:20</td>\n",
       "      <td>2005-06-24 23:46:20</td>\n",
       "      <td>7.99</td>\n",
       "      <td>1</td>\n",
       "      <td>2005-06-24</td>\n",
       "      <td>23:46:20</td>\n",
       "      <td>2005</td>\n",
       "      <td>6</td>\n",
       "      <td>24</td>\n",
       "    </tr>\n",
       "    <tr>\n",
       "      <th>1</th>\n",
       "      <td>5</td>\n",
       "      <td>0</td>\n",
       "      <td>130</td>\n",
       "      <td>6</td>\n",
       "      <td>2</td>\n",
       "      <td>1</td>\n",
       "      <td>2005-06-16 18:54:48</td>\n",
       "      <td>2005-06-22 16:08:48</td>\n",
       "      <td>1.99</td>\n",
       "      <td>1</td>\n",
       "      <td>2005-06-22</td>\n",
       "      <td>16:08:48</td>\n",
       "      <td>2005</td>\n",
       "      <td>6</td>\n",
       "      <td>22</td>\n",
       "    </tr>\n",
       "    <tr>\n",
       "      <th>2</th>\n",
       "      <td>3</td>\n",
       "      <td>2</td>\n",
       "      <td>138</td>\n",
       "      <td>0</td>\n",
       "      <td>2</td>\n",
       "      <td>2</td>\n",
       "      <td>2005-06-17 00:13:19</td>\n",
       "      <td>2005-06-23 18:37:19</td>\n",
       "      <td>7.99</td>\n",
       "      <td>1</td>\n",
       "      <td>2005-06-23</td>\n",
       "      <td>18:37:19</td>\n",
       "      <td>2005</td>\n",
       "      <td>6</td>\n",
       "      <td>23</td>\n",
       "    </tr>\n",
       "    <tr>\n",
       "      <th>3</th>\n",
       "      <td>5</td>\n",
       "      <td>1</td>\n",
       "      <td>100</td>\n",
       "      <td>2</td>\n",
       "      <td>4</td>\n",
       "      <td>3</td>\n",
       "      <td>2005-06-19 21:11:30</td>\n",
       "      <td>2005-06-24 18:10:30</td>\n",
       "      <td>2.99</td>\n",
       "      <td>1</td>\n",
       "      <td>2005-06-24</td>\n",
       "      <td>18:10:30</td>\n",
       "      <td>2005</td>\n",
       "      <td>6</td>\n",
       "      <td>24</td>\n",
       "    </tr>\n",
       "    <tr>\n",
       "      <th>4</th>\n",
       "      <td>6</td>\n",
       "      <td>2</td>\n",
       "      <td>165</td>\n",
       "      <td>7</td>\n",
       "      <td>3</td>\n",
       "      <td>4</td>\n",
       "      <td>2005-06-20 19:03:22</td>\n",
       "      <td>2005-06-29 18:05:22</td>\n",
       "      <td>7.99</td>\n",
       "      <td>1</td>\n",
       "      <td>2005-06-29</td>\n",
       "      <td>18:05:22</td>\n",
       "      <td>2005</td>\n",
       "      <td>6</td>\n",
       "      <td>29</td>\n",
       "    </tr>\n",
       "  </tbody>\n",
       "</table>\n",
       "</div>"
      ],
      "text/plain": [
       "   rental_duration  rental_rate  length  replacement_cost  rating  category  \\\n",
       "0                6            2     153                10       3         0   \n",
       "1                5            0     130                 6       2         1   \n",
       "2                3            2     138                 0       2         2   \n",
       "3                5            1     100                 2       4         3   \n",
       "4                6            2     165                 7       3         4   \n",
       "\n",
       "           rental_date         return_date  amount  active        date  \\\n",
       "0  2005-06-15 23:57:20 2005-06-24 23:46:20    7.99       1  2005-06-24   \n",
       "1  2005-06-16 18:54:48 2005-06-22 16:08:48    1.99       1  2005-06-22   \n",
       "2  2005-06-17 00:13:19 2005-06-23 18:37:19    7.99       1  2005-06-23   \n",
       "3  2005-06-19 21:11:30 2005-06-24 18:10:30    2.99       1  2005-06-24   \n",
       "4  2005-06-20 19:03:22 2005-06-29 18:05:22    7.99       1  2005-06-29   \n",
       "\n",
       "       time  year  month  day  \n",
       "0  23:46:20  2005      6   24  \n",
       "1  16:08:48  2005      6   22  \n",
       "2  18:37:19  2005      6   23  \n",
       "3  18:10:30  2005      6   24  \n",
       "4  18:05:22  2005      6   29  "
      ]
     },
     "execution_count": 39,
     "metadata": {},
     "output_type": "execute_result"
    }
   ],
   "source": [
    "df.head()"
   ]
  },
  {
   "cell_type": "code",
   "execution_count": 19,
   "metadata": {},
   "outputs": [
    {
     "name": "stdout",
     "output_type": "stream",
     "text": [
      "<class 'pandas.core.frame.DataFrame'>\n",
      "Index: 14413 entries, 0 to 14413\n",
      "Data columns (total 12 columns):\n",
      " #   Column            Non-Null Count  Dtype  \n",
      "---  ------            --------------  -----  \n",
      " 0   rental_duration   14413 non-null  int64  \n",
      " 1   rental_rate       14413 non-null  float64\n",
      " 2   length            14413 non-null  int64  \n",
      " 3   replacement_cost  14413 non-null  float64\n",
      " 4   rating            14413 non-null  int64  \n",
      " 5   category          14413 non-null  int64  \n",
      " 6   amount            14413 non-null  float64\n",
      " 7   active            14413 non-null  int64  \n",
      " 8   date              14413 non-null  object \n",
      " 9   year              14413 non-null  int32  \n",
      " 10  month             14413 non-null  int32  \n",
      " 11  day               14413 non-null  int32  \n",
      "dtypes: float64(3), int32(3), int64(5), object(1)\n",
      "memory usage: 1.3+ MB\n"
     ]
    }
   ],
   "source": [
    "df.info()"
   ]
  },
  {
   "cell_type": "markdown",
   "metadata": {},
   "source": [
    "EDA"
   ]
  },
  {
   "cell_type": "code",
   "execution_count": 44,
   "metadata": {},
   "outputs": [],
   "source": [
    "cont=[]\n",
    "cat=[]\n",
    "for i in df.columns:\n",
    "    if df[i].nunique()>10:\n",
    "        cont.append(i)\n",
    "    else:\n",
    "       cat.append(i)     \n"
   ]
  },
  {
   "cell_type": "code",
   "execution_count": 45,
   "metadata": {},
   "outputs": [
    {
     "data": {
      "text/plain": [
       "['length', 'replacement_cost', 'category', 'amount', 'date', 'day']"
      ]
     },
     "execution_count": 45,
     "metadata": {},
     "output_type": "execute_result"
    }
   ],
   "source": [
    "cont"
   ]
  },
  {
   "cell_type": "code",
   "execution_count": 46,
   "metadata": {},
   "outputs": [
    {
     "data": {
      "text/plain": [
       "['rental_duration', 'rental_rate', 'rating', 'active', 'year', 'month']"
      ]
     },
     "execution_count": 46,
     "metadata": {},
     "output_type": "execute_result"
    }
   ],
   "source": [
    "cat"
   ]
  },
  {
   "cell_type": "code",
   "execution_count": 47,
   "metadata": {},
   "outputs": [
    {
     "name": "stdout",
     "output_type": "stream",
     "text": [
      "(14413, 12)\n"
     ]
    }
   ],
   "source": [
    "print(df.shape)"
   ]
  },
  {
   "cell_type": "code",
   "execution_count": 38,
   "metadata": {},
   "outputs": [
    {
     "data": {
      "text/plain": [
       "Index(['rental_rate', 'length', 'replacement_cost', 'rating', 'category',\n",
       "       'amount', 'active', 'rental_actual_duration'],\n",
       "      dtype='object')"
      ]
     },
     "execution_count": 38,
     "metadata": {},
     "output_type": "execute_result"
    }
   ],
   "source": [
    "df.columns"
   ]
  },
  {
   "cell_type": "code",
   "execution_count": 51,
   "metadata": {},
   "outputs": [
    {
     "name": "stdout",
     "output_type": "stream",
     "text": [
      "Requirement already satisfied: tensorflow in c:\\users\\jacquline\\onedrive\\desktop\\dvdrental\\.venv\\lib\\site-packages (2.17.0)\n",
      "Requirement already satisfied: tensorflow-intel==2.17.0 in c:\\users\\jacquline\\onedrive\\desktop\\dvdrental\\.venv\\lib\\site-packages (from tensorflow) (2.17.0)\n",
      "Requirement already satisfied: absl-py>=1.0.0 in c:\\users\\jacquline\\onedrive\\desktop\\dvdrental\\.venv\\lib\\site-packages (from tensorflow-intel==2.17.0->tensorflow) (2.1.0)\n",
      "Requirement already satisfied: astunparse>=1.6.0 in c:\\users\\jacquline\\onedrive\\desktop\\dvdrental\\.venv\\lib\\site-packages (from tensorflow-intel==2.17.0->tensorflow) (1.6.3)\n",
      "Requirement already satisfied: flatbuffers>=24.3.25 in c:\\users\\jacquline\\onedrive\\desktop\\dvdrental\\.venv\\lib\\site-packages (from tensorflow-intel==2.17.0->tensorflow) (24.3.25)\n",
      "Requirement already satisfied: gast!=0.5.0,!=0.5.1,!=0.5.2,>=0.2.1 in c:\\users\\jacquline\\onedrive\\desktop\\dvdrental\\.venv\\lib\\site-packages (from tensorflow-intel==2.17.0->tensorflow) (0.6.0)\n",
      "Requirement already satisfied: google-pasta>=0.1.1 in c:\\users\\jacquline\\onedrive\\desktop\\dvdrental\\.venv\\lib\\site-packages (from tensorflow-intel==2.17.0->tensorflow) (0.2.0)\n",
      "Requirement already satisfied: h5py>=3.10.0 in c:\\users\\jacquline\\onedrive\\desktop\\dvdrental\\.venv\\lib\\site-packages (from tensorflow-intel==2.17.0->tensorflow) (3.12.1)\n",
      "Requirement already satisfied: libclang>=13.0.0 in c:\\users\\jacquline\\onedrive\\desktop\\dvdrental\\.venv\\lib\\site-packages (from tensorflow-intel==2.17.0->tensorflow) (18.1.1)\n",
      "Requirement already satisfied: ml-dtypes<0.5.0,>=0.3.1 in c:\\users\\jacquline\\onedrive\\desktop\\dvdrental\\.venv\\lib\\site-packages (from tensorflow-intel==2.17.0->tensorflow) (0.4.1)\n",
      "Requirement already satisfied: opt-einsum>=2.3.2 in c:\\users\\jacquline\\onedrive\\desktop\\dvdrental\\.venv\\lib\\site-packages (from tensorflow-intel==2.17.0->tensorflow) (3.4.0)\n",
      "Requirement already satisfied: packaging in c:\\users\\jacquline\\onedrive\\desktop\\dvdrental\\.venv\\lib\\site-packages (from tensorflow-intel==2.17.0->tensorflow) (24.1)\n",
      "Requirement already satisfied: protobuf!=4.21.0,!=4.21.1,!=4.21.2,!=4.21.3,!=4.21.4,!=4.21.5,<5.0.0dev,>=3.20.3 in c:\\users\\jacquline\\onedrive\\desktop\\dvdrental\\.venv\\lib\\site-packages (from tensorflow-intel==2.17.0->tensorflow) (4.25.5)\n",
      "Requirement already satisfied: requests<3,>=2.21.0 in c:\\users\\jacquline\\onedrive\\desktop\\dvdrental\\.venv\\lib\\site-packages (from tensorflow-intel==2.17.0->tensorflow) (2.32.3)\n",
      "Requirement already satisfied: setuptools in c:\\users\\jacquline\\onedrive\\desktop\\dvdrental\\.venv\\lib\\site-packages (from tensorflow-intel==2.17.0->tensorflow) (75.1.0)\n",
      "Requirement already satisfied: six>=1.12.0 in c:\\users\\jacquline\\onedrive\\desktop\\dvdrental\\.venv\\lib\\site-packages (from tensorflow-intel==2.17.0->tensorflow) (1.16.0)\n",
      "Requirement already satisfied: termcolor>=1.1.0 in c:\\users\\jacquline\\onedrive\\desktop\\dvdrental\\.venv\\lib\\site-packages (from tensorflow-intel==2.17.0->tensorflow) (2.4.0)\n",
      "Requirement already satisfied: typing-extensions>=3.6.6 in c:\\users\\jacquline\\onedrive\\desktop\\dvdrental\\.venv\\lib\\site-packages (from tensorflow-intel==2.17.0->tensorflow) (4.12.2)\n",
      "Requirement already satisfied: wrapt>=1.11.0 in c:\\users\\jacquline\\onedrive\\desktop\\dvdrental\\.venv\\lib\\site-packages (from tensorflow-intel==2.17.0->tensorflow) (1.16.0)\n",
      "Requirement already satisfied: grpcio<2.0,>=1.24.3 in c:\\users\\jacquline\\onedrive\\desktop\\dvdrental\\.venv\\lib\\site-packages (from tensorflow-intel==2.17.0->tensorflow) (1.66.2)\n",
      "Requirement already satisfied: tensorboard<2.18,>=2.17 in c:\\users\\jacquline\\onedrive\\desktop\\dvdrental\\.venv\\lib\\site-packages (from tensorflow-intel==2.17.0->tensorflow) (2.17.1)\n",
      "Requirement already satisfied: keras>=3.2.0 in c:\\users\\jacquline\\onedrive\\desktop\\dvdrental\\.venv\\lib\\site-packages (from tensorflow-intel==2.17.0->tensorflow) (3.6.0)\n",
      "Requirement already satisfied: numpy<2.0.0,>=1.26.0 in c:\\users\\jacquline\\onedrive\\desktop\\dvdrental\\.venv\\lib\\site-packages (from tensorflow-intel==2.17.0->tensorflow) (1.26.4)\n",
      "Requirement already satisfied: wheel<1.0,>=0.23.0 in c:\\users\\jacquline\\onedrive\\desktop\\dvdrental\\.venv\\lib\\site-packages (from astunparse>=1.6.0->tensorflow-intel==2.17.0->tensorflow) (0.44.0)\n",
      "Requirement already satisfied: rich in c:\\users\\jacquline\\onedrive\\desktop\\dvdrental\\.venv\\lib\\site-packages (from keras>=3.2.0->tensorflow-intel==2.17.0->tensorflow) (13.9.2)\n",
      "Requirement already satisfied: namex in c:\\users\\jacquline\\onedrive\\desktop\\dvdrental\\.venv\\lib\\site-packages (from keras>=3.2.0->tensorflow-intel==2.17.0->tensorflow) (0.0.8)\n",
      "Requirement already satisfied: optree in c:\\users\\jacquline\\onedrive\\desktop\\dvdrental\\.venv\\lib\\site-packages (from keras>=3.2.0->tensorflow-intel==2.17.0->tensorflow) (0.13.0)\n",
      "Requirement already satisfied: charset-normalizer<4,>=2 in c:\\users\\jacquline\\onedrive\\desktop\\dvdrental\\.venv\\lib\\site-packages (from requests<3,>=2.21.0->tensorflow-intel==2.17.0->tensorflow) (3.3.2)\n",
      "Requirement already satisfied: idna<4,>=2.5 in c:\\users\\jacquline\\onedrive\\desktop\\dvdrental\\.venv\\lib\\site-packages (from requests<3,>=2.21.0->tensorflow-intel==2.17.0->tensorflow) (3.10)\n",
      "Requirement already satisfied: urllib3<3,>=1.21.1 in c:\\users\\jacquline\\onedrive\\desktop\\dvdrental\\.venv\\lib\\site-packages (from requests<3,>=2.21.0->tensorflow-intel==2.17.0->tensorflow) (2.2.3)\n",
      "Requirement already satisfied: certifi>=2017.4.17 in c:\\users\\jacquline\\onedrive\\desktop\\dvdrental\\.venv\\lib\\site-packages (from requests<3,>=2.21.0->tensorflow-intel==2.17.0->tensorflow) (2024.8.30)\n",
      "Requirement already satisfied: markdown>=2.6.8 in c:\\users\\jacquline\\onedrive\\desktop\\dvdrental\\.venv\\lib\\site-packages (from tensorboard<2.18,>=2.17->tensorflow-intel==2.17.0->tensorflow) (3.7)\n",
      "Requirement already satisfied: tensorboard-data-server<0.8.0,>=0.7.0 in c:\\users\\jacquline\\onedrive\\desktop\\dvdrental\\.venv\\lib\\site-packages (from tensorboard<2.18,>=2.17->tensorflow-intel==2.17.0->tensorflow) (0.7.2)\n",
      "Requirement already satisfied: werkzeug>=1.0.1 in c:\\users\\jacquline\\onedrive\\desktop\\dvdrental\\.venv\\lib\\site-packages (from tensorboard<2.18,>=2.17->tensorflow-intel==2.17.0->tensorflow) (3.0.4)\n",
      "Requirement already satisfied: MarkupSafe>=2.1.1 in c:\\users\\jacquline\\onedrive\\desktop\\dvdrental\\.venv\\lib\\site-packages (from werkzeug>=1.0.1->tensorboard<2.18,>=2.17->tensorflow-intel==2.17.0->tensorflow) (2.1.5)\n",
      "Requirement already satisfied: markdown-it-py>=2.2.0 in c:\\users\\jacquline\\onedrive\\desktop\\dvdrental\\.venv\\lib\\site-packages (from rich->keras>=3.2.0->tensorflow-intel==2.17.0->tensorflow) (3.0.0)\n",
      "Requirement already satisfied: pygments<3.0.0,>=2.13.0 in c:\\users\\jacquline\\onedrive\\desktop\\dvdrental\\.venv\\lib\\site-packages (from rich->keras>=3.2.0->tensorflow-intel==2.17.0->tensorflow) (2.18.0)\n",
      "Requirement already satisfied: mdurl~=0.1 in c:\\users\\jacquline\\onedrive\\desktop\\dvdrental\\.venv\\lib\\site-packages (from markdown-it-py>=2.2.0->rich->keras>=3.2.0->tensorflow-intel==2.17.0->tensorflow) (0.1.2)\n",
      "Note: you may need to restart the kernel to use updated packages.\n"
     ]
    }
   ],
   "source": [
    "pip install tensorflow"
   ]
  },
  {
   "cell_type": "code",
   "execution_count": 1,
   "metadata": {},
   "outputs": [],
   "source": [
    "from sklearn.model_selection import train_test_split\n",
    "\n",
    "import tensorflow as tf\n",
    "from tensorflow.keras.models import Sequential\n",
    "from tensorflow.keras.layers import Dense\n",
    "from tensorflow.keras.callbacks import Callback\n",
    "import tensorflow.keras.backend as K\n",
    "\n",
    "import pickle\n",
    "from sklearn.preprocessing import LabelEncoder\n",
    "from keras.models import Sequential # to see the sequence like ip --> hl1 --> hl2--> hl3 -->o/p #to build layer by layer architecture\n",
    "from keras.layers import Dense # to decide the depth of layers\n",
    "import numpy as np\n",
    "from keras.utils import to_categorical\n",
    "\n",
    "from tensorflow.keras.metrics import MeanSquaredError, MeanAbsoluteError\n",
    "from keras.models import load_model"
   ]
  },
  {
   "cell_type": "code",
   "execution_count": 39,
   "metadata": {},
   "outputs": [],
   "source": [
    "# Separate features and target\n",
    "x = df.drop('amount', axis=1)  # Replace 'revenue_column' with the actual column name for revenue\n",
    "y = df['amount']"
   ]
  },
  {
   "cell_type": "code",
   "execution_count": 40,
   "metadata": {},
   "outputs": [
    {
     "data": {
      "text/plain": [
       "Index(['rental_rate', 'length', 'replacement_cost', 'rating', 'category',\n",
       "       'active', 'rental_actual_duration'],\n",
       "      dtype='object')"
      ]
     },
     "execution_count": 40,
     "metadata": {},
     "output_type": "execute_result"
    }
   ],
   "source": [
    "x.columns"
   ]
  },
  {
   "cell_type": "code",
   "execution_count": 41,
   "metadata": {},
   "outputs": [
    {
     "data": {
      "text/plain": [
       "0        7.99\n",
       "1        1.99\n",
       "2        7.99\n",
       "3        2.99\n",
       "4        7.99\n",
       "         ... \n",
       "14409    6.99\n",
       "14410    0.99\n",
       "14411    3.99\n",
       "14412    4.99\n",
       "14413    1.99\n",
       "Name: amount, Length: 14413, dtype: float64"
      ]
     },
     "execution_count": 41,
     "metadata": {},
     "output_type": "execute_result"
    }
   ],
   "source": [
    "y"
   ]
  },
  {
   "cell_type": "code",
   "execution_count": 42,
   "metadata": {},
   "outputs": [
    {
     "data": {
      "text/plain": [
       "((14413, 7), (14413,))"
      ]
     },
     "execution_count": 42,
     "metadata": {},
     "output_type": "execute_result"
    }
   ],
   "source": [
    "x.shape,y.shape"
   ]
  },
  {
   "cell_type": "code",
   "execution_count": 43,
   "metadata": {},
   "outputs": [],
   "source": [
    "x_train,x_test,y_train,y_test = train_test_split(x,y,test_size=0.25)"
   ]
  },
  {
   "cell_type": "code",
   "execution_count": 44,
   "metadata": {},
   "outputs": [
    {
     "data": {
      "text/html": [
       "<div>\n",
       "<style scoped>\n",
       "    .dataframe tbody tr th:only-of-type {\n",
       "        vertical-align: middle;\n",
       "    }\n",
       "\n",
       "    .dataframe tbody tr th {\n",
       "        vertical-align: top;\n",
       "    }\n",
       "\n",
       "    .dataframe thead th {\n",
       "        text-align: right;\n",
       "    }\n",
       "</style>\n",
       "<table border=\"1\" class=\"dataframe\">\n",
       "  <thead>\n",
       "    <tr style=\"text-align: right;\">\n",
       "      <th></th>\n",
       "      <th>rental_rate</th>\n",
       "      <th>length</th>\n",
       "      <th>replacement_cost</th>\n",
       "      <th>rating</th>\n",
       "      <th>category</th>\n",
       "      <th>active</th>\n",
       "      <th>rental_actual_duration</th>\n",
       "    </tr>\n",
       "  </thead>\n",
       "  <tbody>\n",
       "    <tr>\n",
       "      <th>7745</th>\n",
       "      <td>0.99</td>\n",
       "      <td>87</td>\n",
       "      <td>25.99</td>\n",
       "      <td>1</td>\n",
       "      <td>4</td>\n",
       "      <td>1</td>\n",
       "      <td>1.0</td>\n",
       "    </tr>\n",
       "    <tr>\n",
       "      <th>4693</th>\n",
       "      <td>4.99</td>\n",
       "      <td>83</td>\n",
       "      <td>22.99</td>\n",
       "      <td>1</td>\n",
       "      <td>11</td>\n",
       "      <td>1</td>\n",
       "      <td>2.0</td>\n",
       "    </tr>\n",
       "    <tr>\n",
       "      <th>10842</th>\n",
       "      <td>0.99</td>\n",
       "      <td>150</td>\n",
       "      <td>21.99</td>\n",
       "      <td>1</td>\n",
       "      <td>14</td>\n",
       "      <td>1</td>\n",
       "      <td>7.0</td>\n",
       "    </tr>\n",
       "    <tr>\n",
       "      <th>347</th>\n",
       "      <td>4.99</td>\n",
       "      <td>92</td>\n",
       "      <td>9.99</td>\n",
       "      <td>4</td>\n",
       "      <td>13</td>\n",
       "      <td>1</td>\n",
       "      <td>2.0</td>\n",
       "    </tr>\n",
       "    <tr>\n",
       "      <th>8182</th>\n",
       "      <td>4.99</td>\n",
       "      <td>173</td>\n",
       "      <td>14.99</td>\n",
       "      <td>3</td>\n",
       "      <td>11</td>\n",
       "      <td>1</td>\n",
       "      <td>4.0</td>\n",
       "    </tr>\n",
       "    <tr>\n",
       "      <th>...</th>\n",
       "      <td>...</td>\n",
       "      <td>...</td>\n",
       "      <td>...</td>\n",
       "      <td>...</td>\n",
       "      <td>...</td>\n",
       "      <td>...</td>\n",
       "      <td>...</td>\n",
       "    </tr>\n",
       "    <tr>\n",
       "      <th>1954</th>\n",
       "      <td>2.99</td>\n",
       "      <td>179</td>\n",
       "      <td>10.99</td>\n",
       "      <td>4</td>\n",
       "      <td>15</td>\n",
       "      <td>1</td>\n",
       "      <td>3.0</td>\n",
       "    </tr>\n",
       "    <tr>\n",
       "      <th>13302</th>\n",
       "      <td>0.99</td>\n",
       "      <td>184</td>\n",
       "      <td>18.99</td>\n",
       "      <td>3</td>\n",
       "      <td>10</td>\n",
       "      <td>1</td>\n",
       "      <td>1.0</td>\n",
       "    </tr>\n",
       "    <tr>\n",
       "      <th>13928</th>\n",
       "      <td>0.99</td>\n",
       "      <td>134</td>\n",
       "      <td>20.99</td>\n",
       "      <td>3</td>\n",
       "      <td>14</td>\n",
       "      <td>1</td>\n",
       "      <td>8.0</td>\n",
       "    </tr>\n",
       "    <tr>\n",
       "      <th>5494</th>\n",
       "      <td>0.99</td>\n",
       "      <td>57</td>\n",
       "      <td>28.99</td>\n",
       "      <td>1</td>\n",
       "      <td>15</td>\n",
       "      <td>1</td>\n",
       "      <td>6.0</td>\n",
       "    </tr>\n",
       "    <tr>\n",
       "      <th>7651</th>\n",
       "      <td>4.99</td>\n",
       "      <td>52</td>\n",
       "      <td>19.99</td>\n",
       "      <td>1</td>\n",
       "      <td>7</td>\n",
       "      <td>1</td>\n",
       "      <td>2.0</td>\n",
       "    </tr>\n",
       "  </tbody>\n",
       "</table>\n",
       "<p>10809 rows × 7 columns</p>\n",
       "</div>"
      ],
      "text/plain": [
       "       rental_rate  length  replacement_cost  rating  category  active  \\\n",
       "7745          0.99      87             25.99       1         4       1   \n",
       "4693          4.99      83             22.99       1        11       1   \n",
       "10842         0.99     150             21.99       1        14       1   \n",
       "347           4.99      92              9.99       4        13       1   \n",
       "8182          4.99     173             14.99       3        11       1   \n",
       "...            ...     ...               ...     ...       ...     ...   \n",
       "1954          2.99     179             10.99       4        15       1   \n",
       "13302         0.99     184             18.99       3        10       1   \n",
       "13928         0.99     134             20.99       3        14       1   \n",
       "5494          0.99      57             28.99       1        15       1   \n",
       "7651          4.99      52             19.99       1         7       1   \n",
       "\n",
       "       rental_actual_duration  \n",
       "7745                      1.0  \n",
       "4693                      2.0  \n",
       "10842                     7.0  \n",
       "347                       2.0  \n",
       "8182                      4.0  \n",
       "...                       ...  \n",
       "1954                      3.0  \n",
       "13302                     1.0  \n",
       "13928                     8.0  \n",
       "5494                      6.0  \n",
       "7651                      2.0  \n",
       "\n",
       "[10809 rows x 7 columns]"
      ]
     },
     "execution_count": 44,
     "metadata": {},
     "output_type": "execute_result"
    }
   ],
   "source": [
    "x_train"
   ]
  },
  {
   "cell_type": "code",
   "execution_count": 62,
   "metadata": {},
   "outputs": [],
   "source": [
    "#scaler = StandardScaler() \n",
    "#scaler.fit(x_train)"
   ]
  },
  {
   "cell_type": "code",
   "execution_count": 63,
   "metadata": {},
   "outputs": [],
   "source": [
    "#x_train_scaler = scaler.transform(x_train)\n",
    "#x_test_scaler = scaler.transform(x_test)"
   ]
  },
  {
   "cell_type": "code",
   "execution_count": 64,
   "metadata": {},
   "outputs": [],
   "source": [
    "\n",
    "#x_train_scaler_df=pd.DataFrame(x_train_scaler,columns = x_train.columns)\n",
    "#x_test_scaler_df=pd.DataFrame(x_test_scaler,columns = x_test.columns)"
   ]
  },
  {
   "cell_type": "code",
   "execution_count": 65,
   "metadata": {},
   "outputs": [],
   "source": [
    "#x_test_scaler_df"
   ]
  },
  {
   "cell_type": "code",
   "execution_count": 45,
   "metadata": {},
   "outputs": [
    {
     "data": {
      "text/plain": [
       "7"
      ]
     },
     "execution_count": 45,
     "metadata": {},
     "output_type": "execute_result"
    }
   ],
   "source": [
    "\n",
    "x_train.shape[1]"
   ]
  },
  {
   "cell_type": "code",
   "execution_count": 46,
   "metadata": {},
   "outputs": [
    {
     "data": {
      "text/plain": [
       "(10809,)"
      ]
     },
     "execution_count": 46,
     "metadata": {},
     "output_type": "execute_result"
    }
   ],
   "source": [
    "\n",
    "y_train.shape"
   ]
  },
  {
   "cell_type": "code",
   "execution_count": 47,
   "metadata": {},
   "outputs": [
    {
     "data": {
      "text/plain": [
       "((10809, 7), (10809,))"
      ]
     },
     "execution_count": 47,
     "metadata": {},
     "output_type": "execute_result"
    }
   ],
   "source": [
    "x_train.shape, y_train.shape"
   ]
  },
  {
   "cell_type": "code",
   "execution_count": 69,
   "metadata": {},
   "outputs": [],
   "source": [
    "\n",
    "#x_train_scaler_df.columns"
   ]
  },
  {
   "cell_type": "code",
   "execution_count": 48,
   "metadata": {},
   "outputs": [
    {
     "name": "stderr",
     "output_type": "stream",
     "text": [
      "c:\\Users\\Jacquline\\OneDrive\\Desktop\\DVDrental\\.venv\\Lib\\site-packages\\keras\\src\\layers\\core\\dense.py:87: UserWarning: Do not pass an `input_shape`/`input_dim` argument to a layer. When using Sequential models, prefer using an `Input(shape)` object as the first layer in the model instead.\n",
      "  super().__init__(activity_regularizer=activity_regularizer, **kwargs)\n"
     ]
    }
   ],
   "source": [
    "model1 = Sequential()\n",
    "# Input layer (match input shape to your data)\n",
    "model1.add(Dense(256, input_dim=x_train.shape[1], activation='relu'))\n",
    "\n",
    "# Hidden layers\n",
    "model1.add(Dense(128, activation='relu'))\n",
    "model1.add(Dense(128, activation='relu'))\n",
    "model1.add(Dense(64, activation='relu'))\n",
    "model1.add(Dense(32, activation='relu'))\n",
    "model1.add(Dense(32, activation='relu'))\n",
    "model1.add(Dense(16, activation='relu'))\n",
    "\n",
    "\n",
    "model1.add(Dense(1))\n",
    "\n",
    "# Compile the model for regression with 'mse' loss function\n",
    "model1.compile(optimizer='adam', loss='mean_squared_error', metrics=[MeanSquaredError(), MeanAbsoluteError()])"
   ]
  },
  {
   "cell_type": "code",
   "execution_count": 49,
   "metadata": {},
   "outputs": [
    {
     "data": {
      "text/html": [
       "<pre style=\"white-space:pre;overflow-x:auto;line-height:normal;font-family:Menlo,'DejaVu Sans Mono',consolas,'Courier New',monospace\"><span style=\"font-weight: bold\">Model: \"sequential\"</span>\n",
       "</pre>\n"
      ],
      "text/plain": [
       "\u001b[1mModel: \"sequential\"\u001b[0m\n"
      ]
     },
     "metadata": {},
     "output_type": "display_data"
    },
    {
     "data": {
      "text/html": [
       "<pre style=\"white-space:pre;overflow-x:auto;line-height:normal;font-family:Menlo,'DejaVu Sans Mono',consolas,'Courier New',monospace\">┏━━━━━━━━━━━━━━━━━━━━━━━━━━━━━━━━━┳━━━━━━━━━━━━━━━━━━━━━━━━┳━━━━━━━━━━━━━━━┓\n",
       "┃<span style=\"font-weight: bold\"> Layer (type)                    </span>┃<span style=\"font-weight: bold\"> Output Shape           </span>┃<span style=\"font-weight: bold\">       Param # </span>┃\n",
       "┡━━━━━━━━━━━━━━━━━━━━━━━━━━━━━━━━━╇━━━━━━━━━━━━━━━━━━━━━━━━╇━━━━━━━━━━━━━━━┩\n",
       "│ dense (<span style=\"color: #0087ff; text-decoration-color: #0087ff\">Dense</span>)                   │ (<span style=\"color: #00d7ff; text-decoration-color: #00d7ff\">None</span>, <span style=\"color: #00af00; text-decoration-color: #00af00\">256</span>)            │         <span style=\"color: #00af00; text-decoration-color: #00af00\">2,048</span> │\n",
       "├─────────────────────────────────┼────────────────────────┼───────────────┤\n",
       "│ dense_1 (<span style=\"color: #0087ff; text-decoration-color: #0087ff\">Dense</span>)                 │ (<span style=\"color: #00d7ff; text-decoration-color: #00d7ff\">None</span>, <span style=\"color: #00af00; text-decoration-color: #00af00\">128</span>)            │        <span style=\"color: #00af00; text-decoration-color: #00af00\">32,896</span> │\n",
       "├─────────────────────────────────┼────────────────────────┼───────────────┤\n",
       "│ dense_2 (<span style=\"color: #0087ff; text-decoration-color: #0087ff\">Dense</span>)                 │ (<span style=\"color: #00d7ff; text-decoration-color: #00d7ff\">None</span>, <span style=\"color: #00af00; text-decoration-color: #00af00\">128</span>)            │        <span style=\"color: #00af00; text-decoration-color: #00af00\">16,512</span> │\n",
       "├─────────────────────────────────┼────────────────────────┼───────────────┤\n",
       "│ dense_3 (<span style=\"color: #0087ff; text-decoration-color: #0087ff\">Dense</span>)                 │ (<span style=\"color: #00d7ff; text-decoration-color: #00d7ff\">None</span>, <span style=\"color: #00af00; text-decoration-color: #00af00\">64</span>)             │         <span style=\"color: #00af00; text-decoration-color: #00af00\">8,256</span> │\n",
       "├─────────────────────────────────┼────────────────────────┼───────────────┤\n",
       "│ dense_4 (<span style=\"color: #0087ff; text-decoration-color: #0087ff\">Dense</span>)                 │ (<span style=\"color: #00d7ff; text-decoration-color: #00d7ff\">None</span>, <span style=\"color: #00af00; text-decoration-color: #00af00\">32</span>)             │         <span style=\"color: #00af00; text-decoration-color: #00af00\">2,080</span> │\n",
       "├─────────────────────────────────┼────────────────────────┼───────────────┤\n",
       "│ dense_5 (<span style=\"color: #0087ff; text-decoration-color: #0087ff\">Dense</span>)                 │ (<span style=\"color: #00d7ff; text-decoration-color: #00d7ff\">None</span>, <span style=\"color: #00af00; text-decoration-color: #00af00\">32</span>)             │         <span style=\"color: #00af00; text-decoration-color: #00af00\">1,056</span> │\n",
       "├─────────────────────────────────┼────────────────────────┼───────────────┤\n",
       "│ dense_6 (<span style=\"color: #0087ff; text-decoration-color: #0087ff\">Dense</span>)                 │ (<span style=\"color: #00d7ff; text-decoration-color: #00d7ff\">None</span>, <span style=\"color: #00af00; text-decoration-color: #00af00\">16</span>)             │           <span style=\"color: #00af00; text-decoration-color: #00af00\">528</span> │\n",
       "├─────────────────────────────────┼────────────────────────┼───────────────┤\n",
       "│ dense_7 (<span style=\"color: #0087ff; text-decoration-color: #0087ff\">Dense</span>)                 │ (<span style=\"color: #00d7ff; text-decoration-color: #00d7ff\">None</span>, <span style=\"color: #00af00; text-decoration-color: #00af00\">1</span>)              │            <span style=\"color: #00af00; text-decoration-color: #00af00\">17</span> │\n",
       "└─────────────────────────────────┴────────────────────────┴───────────────┘\n",
       "</pre>\n"
      ],
      "text/plain": [
       "┏━━━━━━━━━━━━━━━━━━━━━━━━━━━━━━━━━┳━━━━━━━━━━━━━━━━━━━━━━━━┳━━━━━━━━━━━━━━━┓\n",
       "┃\u001b[1m \u001b[0m\u001b[1mLayer (type)                   \u001b[0m\u001b[1m \u001b[0m┃\u001b[1m \u001b[0m\u001b[1mOutput Shape          \u001b[0m\u001b[1m \u001b[0m┃\u001b[1m \u001b[0m\u001b[1m      Param #\u001b[0m\u001b[1m \u001b[0m┃\n",
       "┡━━━━━━━━━━━━━━━━━━━━━━━━━━━━━━━━━╇━━━━━━━━━━━━━━━━━━━━━━━━╇━━━━━━━━━━━━━━━┩\n",
       "│ dense (\u001b[38;5;33mDense\u001b[0m)                   │ (\u001b[38;5;45mNone\u001b[0m, \u001b[38;5;34m256\u001b[0m)            │         \u001b[38;5;34m2,048\u001b[0m │\n",
       "├─────────────────────────────────┼────────────────────────┼───────────────┤\n",
       "│ dense_1 (\u001b[38;5;33mDense\u001b[0m)                 │ (\u001b[38;5;45mNone\u001b[0m, \u001b[38;5;34m128\u001b[0m)            │        \u001b[38;5;34m32,896\u001b[0m │\n",
       "├─────────────────────────────────┼────────────────────────┼───────────────┤\n",
       "│ dense_2 (\u001b[38;5;33mDense\u001b[0m)                 │ (\u001b[38;5;45mNone\u001b[0m, \u001b[38;5;34m128\u001b[0m)            │        \u001b[38;5;34m16,512\u001b[0m │\n",
       "├─────────────────────────────────┼────────────────────────┼───────────────┤\n",
       "│ dense_3 (\u001b[38;5;33mDense\u001b[0m)                 │ (\u001b[38;5;45mNone\u001b[0m, \u001b[38;5;34m64\u001b[0m)             │         \u001b[38;5;34m8,256\u001b[0m │\n",
       "├─────────────────────────────────┼────────────────────────┼───────────────┤\n",
       "│ dense_4 (\u001b[38;5;33mDense\u001b[0m)                 │ (\u001b[38;5;45mNone\u001b[0m, \u001b[38;5;34m32\u001b[0m)             │         \u001b[38;5;34m2,080\u001b[0m │\n",
       "├─────────────────────────────────┼────────────────────────┼───────────────┤\n",
       "│ dense_5 (\u001b[38;5;33mDense\u001b[0m)                 │ (\u001b[38;5;45mNone\u001b[0m, \u001b[38;5;34m32\u001b[0m)             │         \u001b[38;5;34m1,056\u001b[0m │\n",
       "├─────────────────────────────────┼────────────────────────┼───────────────┤\n",
       "│ dense_6 (\u001b[38;5;33mDense\u001b[0m)                 │ (\u001b[38;5;45mNone\u001b[0m, \u001b[38;5;34m16\u001b[0m)             │           \u001b[38;5;34m528\u001b[0m │\n",
       "├─────────────────────────────────┼────────────────────────┼───────────────┤\n",
       "│ dense_7 (\u001b[38;5;33mDense\u001b[0m)                 │ (\u001b[38;5;45mNone\u001b[0m, \u001b[38;5;34m1\u001b[0m)              │            \u001b[38;5;34m17\u001b[0m │\n",
       "└─────────────────────────────────┴────────────────────────┴───────────────┘\n"
      ]
     },
     "metadata": {},
     "output_type": "display_data"
    },
    {
     "data": {
      "text/html": [
       "<pre style=\"white-space:pre;overflow-x:auto;line-height:normal;font-family:Menlo,'DejaVu Sans Mono',consolas,'Courier New',monospace\"><span style=\"font-weight: bold\"> Total params: </span><span style=\"color: #00af00; text-decoration-color: #00af00\">63,393</span> (247.63 KB)\n",
       "</pre>\n"
      ],
      "text/plain": [
       "\u001b[1m Total params: \u001b[0m\u001b[38;5;34m63,393\u001b[0m (247.63 KB)\n"
      ]
     },
     "metadata": {},
     "output_type": "display_data"
    },
    {
     "data": {
      "text/html": [
       "<pre style=\"white-space:pre;overflow-x:auto;line-height:normal;font-family:Menlo,'DejaVu Sans Mono',consolas,'Courier New',monospace\"><span style=\"font-weight: bold\"> Trainable params: </span><span style=\"color: #00af00; text-decoration-color: #00af00\">63,393</span> (247.63 KB)\n",
       "</pre>\n"
      ],
      "text/plain": [
       "\u001b[1m Trainable params: \u001b[0m\u001b[38;5;34m63,393\u001b[0m (247.63 KB)\n"
      ]
     },
     "metadata": {},
     "output_type": "display_data"
    },
    {
     "data": {
      "text/html": [
       "<pre style=\"white-space:pre;overflow-x:auto;line-height:normal;font-family:Menlo,'DejaVu Sans Mono',consolas,'Courier New',monospace\"><span style=\"font-weight: bold\"> Non-trainable params: </span><span style=\"color: #00af00; text-decoration-color: #00af00\">0</span> (0.00 B)\n",
       "</pre>\n"
      ],
      "text/plain": [
       "\u001b[1m Non-trainable params: \u001b[0m\u001b[38;5;34m0\u001b[0m (0.00 B)\n"
      ]
     },
     "metadata": {},
     "output_type": "display_data"
    }
   ],
   "source": [
    "\n",
    "model1.summary()"
   ]
  },
  {
   "cell_type": "code",
   "execution_count": 50,
   "metadata": {},
   "outputs": [
    {
     "name": "stdout",
     "output_type": "stream",
     "text": [
      "Epoch 1/100\n",
      "\u001b[1m338/338\u001b[0m \u001b[32m━━━━━━━━━━━━━━━━━━━━\u001b[0m\u001b[37m\u001b[0m \u001b[1m7s\u001b[0m 5ms/step - loss: 6.4353 - mean_absolute_error: 1.8431 - mean_squared_error: 6.4353 - val_loss: 1.2805 - val_mean_absolute_error: 0.8737 - val_mean_squared_error: 1.2805\n",
      "Epoch 2/100\n",
      "\u001b[1m338/338\u001b[0m \u001b[32m━━━━━━━━━━━━━━━━━━━━\u001b[0m\u001b[37m\u001b[0m \u001b[1m1s\u001b[0m 4ms/step - loss: 1.4893 - mean_absolute_error: 0.9520 - mean_squared_error: 1.4893 - val_loss: 1.3859 - val_mean_absolute_error: 0.9319 - val_mean_squared_error: 1.3859\n",
      "Epoch 3/100\n",
      "\u001b[1m338/338\u001b[0m \u001b[32m━━━━━━━━━━━━━━━━━━━━\u001b[0m\u001b[37m\u001b[0m \u001b[1m1s\u001b[0m 4ms/step - loss: 1.3731 - mean_absolute_error: 0.9127 - mean_squared_error: 1.3731 - val_loss: 1.2378 - val_mean_absolute_error: 0.8553 - val_mean_squared_error: 1.2378\n",
      "Epoch 4/100\n",
      "\u001b[1m338/338\u001b[0m \u001b[32m━━━━━━━━━━━━━━━━━━━━\u001b[0m\u001b[37m\u001b[0m \u001b[1m1s\u001b[0m 4ms/step - loss: 1.3368 - mean_absolute_error: 0.8853 - mean_squared_error: 1.3368 - val_loss: 1.1871 - val_mean_absolute_error: 0.8257 - val_mean_squared_error: 1.1871\n",
      "Epoch 5/100\n",
      "\u001b[1m338/338\u001b[0m \u001b[32m━━━━━━━━━━━━━━━━━━━━\u001b[0m\u001b[37m\u001b[0m \u001b[1m2s\u001b[0m 5ms/step - loss: 1.2367 - mean_absolute_error: 0.8427 - mean_squared_error: 1.2367 - val_loss: 1.2109 - val_mean_absolute_error: 0.8751 - val_mean_squared_error: 1.2109\n",
      "Epoch 6/100\n",
      "\u001b[1m338/338\u001b[0m \u001b[32m━━━━━━━━━━━━━━━━━━━━\u001b[0m\u001b[37m\u001b[0m \u001b[1m1s\u001b[0m 4ms/step - loss: 1.2507 - mean_absolute_error: 0.8416 - mean_squared_error: 1.2507 - val_loss: 1.0708 - val_mean_absolute_error: 0.7582 - val_mean_squared_error: 1.0708\n",
      "Epoch 7/100\n",
      "\u001b[1m338/338\u001b[0m \u001b[32m━━━━━━━━━━━━━━━━━━━━\u001b[0m\u001b[37m\u001b[0m \u001b[1m1s\u001b[0m 4ms/step - loss: 1.1898 - mean_absolute_error: 0.8085 - mean_squared_error: 1.1898 - val_loss: 1.2172 - val_mean_absolute_error: 0.8408 - val_mean_squared_error: 1.2172\n",
      "Epoch 8/100\n",
      "\u001b[1m338/338\u001b[0m \u001b[32m━━━━━━━━━━━━━━━━━━━━\u001b[0m\u001b[37m\u001b[0m \u001b[1m1s\u001b[0m 4ms/step - loss: 1.1269 - mean_absolute_error: 0.7764 - mean_squared_error: 1.1269 - val_loss: 1.0337 - val_mean_absolute_error: 0.7398 - val_mean_squared_error: 1.0337\n",
      "Epoch 9/100\n",
      "\u001b[1m338/338\u001b[0m \u001b[32m━━━━━━━━━━━━━━━━━━━━\u001b[0m\u001b[37m\u001b[0m \u001b[1m1s\u001b[0m 4ms/step - loss: 1.1444 - mean_absolute_error: 0.7819 - mean_squared_error: 1.1444 - val_loss: 1.1665 - val_mean_absolute_error: 0.7833 - val_mean_squared_error: 1.1665\n",
      "Epoch 10/100\n",
      "\u001b[1m338/338\u001b[0m \u001b[32m━━━━━━━━━━━━━━━━━━━━\u001b[0m\u001b[37m\u001b[0m \u001b[1m1s\u001b[0m 4ms/step - loss: 1.1350 - mean_absolute_error: 0.7826 - mean_squared_error: 1.1350 - val_loss: 1.1628 - val_mean_absolute_error: 0.8276 - val_mean_squared_error: 1.1628\n",
      "Epoch 11/100\n",
      "\u001b[1m338/338\u001b[0m \u001b[32m━━━━━━━━━━━━━━━━━━━━\u001b[0m\u001b[37m\u001b[0m \u001b[1m1s\u001b[0m 4ms/step - loss: 1.1206 - mean_absolute_error: 0.7709 - mean_squared_error: 1.1206 - val_loss: 1.0755 - val_mean_absolute_error: 0.7714 - val_mean_squared_error: 1.0755\n",
      "Epoch 12/100\n",
      "\u001b[1m338/338\u001b[0m \u001b[32m━━━━━━━━━━━━━━━━━━━━\u001b[0m\u001b[37m\u001b[0m \u001b[1m2s\u001b[0m 4ms/step - loss: 1.1204 - mean_absolute_error: 0.7680 - mean_squared_error: 1.1204 - val_loss: 1.0192 - val_mean_absolute_error: 0.7215 - val_mean_squared_error: 1.0192\n",
      "Epoch 13/100\n",
      "\u001b[1m338/338\u001b[0m \u001b[32m━━━━━━━━━━━━━━━━━━━━\u001b[0m\u001b[37m\u001b[0m \u001b[1m2s\u001b[0m 4ms/step - loss: 1.1082 - mean_absolute_error: 0.7590 - mean_squared_error: 1.1082 - val_loss: 1.0264 - val_mean_absolute_error: 0.7184 - val_mean_squared_error: 1.0264\n",
      "Epoch 14/100\n",
      "\u001b[1m338/338\u001b[0m \u001b[32m━━━━━━━━━━━━━━━━━━━━\u001b[0m\u001b[37m\u001b[0m \u001b[1m1s\u001b[0m 4ms/step - loss: 1.1166 - mean_absolute_error: 0.7630 - mean_squared_error: 1.1166 - val_loss: 1.0076 - val_mean_absolute_error: 0.6897 - val_mean_squared_error: 1.0076\n",
      "Epoch 15/100\n",
      "\u001b[1m338/338\u001b[0m \u001b[32m━━━━━━━━━━━━━━━━━━━━\u001b[0m\u001b[37m\u001b[0m \u001b[1m2s\u001b[0m 5ms/step - loss: 1.1219 - mean_absolute_error: 0.7631 - mean_squared_error: 1.1219 - val_loss: 1.0653 - val_mean_absolute_error: 0.7092 - val_mean_squared_error: 1.0653\n",
      "Epoch 16/100\n",
      "\u001b[1m338/338\u001b[0m \u001b[32m━━━━━━━━━━━━━━━━━━━━\u001b[0m\u001b[37m\u001b[0m \u001b[1m2s\u001b[0m 5ms/step - loss: 1.1696 - mean_absolute_error: 0.7867 - mean_squared_error: 1.1696 - val_loss: 1.1494 - val_mean_absolute_error: 0.8121 - val_mean_squared_error: 1.1494\n",
      "Epoch 17/100\n",
      "\u001b[1m338/338\u001b[0m \u001b[32m━━━━━━━━━━━━━━━━━━━━\u001b[0m\u001b[37m\u001b[0m \u001b[1m1s\u001b[0m 4ms/step - loss: 1.1121 - mean_absolute_error: 0.7611 - mean_squared_error: 1.1121 - val_loss: 1.0426 - val_mean_absolute_error: 0.6899 - val_mean_squared_error: 1.0426\n",
      "Epoch 18/100\n",
      "\u001b[1m338/338\u001b[0m \u001b[32m━━━━━━━━━━━━━━━━━━━━\u001b[0m\u001b[37m\u001b[0m \u001b[1m1s\u001b[0m 4ms/step - loss: 1.0948 - mean_absolute_error: 0.7471 - mean_squared_error: 1.0948 - val_loss: 1.0019 - val_mean_absolute_error: 0.7199 - val_mean_squared_error: 1.0019\n",
      "Epoch 19/100\n",
      "\u001b[1m338/338\u001b[0m \u001b[32m━━━━━━━━━━━━━━━━━━━━\u001b[0m\u001b[37m\u001b[0m \u001b[1m2s\u001b[0m 4ms/step - loss: 1.1465 - mean_absolute_error: 0.7757 - mean_squared_error: 1.1465 - val_loss: 1.0087 - val_mean_absolute_error: 0.7139 - val_mean_squared_error: 1.0087\n",
      "Epoch 20/100\n",
      "\u001b[1m338/338\u001b[0m \u001b[32m━━━━━━━━━━━━━━━━━━━━\u001b[0m\u001b[37m\u001b[0m \u001b[1m1s\u001b[0m 4ms/step - loss: 1.0765 - mean_absolute_error: 0.7502 - mean_squared_error: 1.0765 - val_loss: 0.9918 - val_mean_absolute_error: 0.7050 - val_mean_squared_error: 0.9918\n",
      "Epoch 21/100\n",
      "\u001b[1m338/338\u001b[0m \u001b[32m━━━━━━━━━━━━━━━━━━━━\u001b[0m\u001b[37m\u001b[0m \u001b[1m2s\u001b[0m 4ms/step - loss: 1.0814 - mean_absolute_error: 0.7425 - mean_squared_error: 1.0814 - val_loss: 1.1907 - val_mean_absolute_error: 0.7608 - val_mean_squared_error: 1.1907\n",
      "Epoch 22/100\n",
      "\u001b[1m338/338\u001b[0m \u001b[32m━━━━━━━━━━━━━━━━━━━━\u001b[0m\u001b[37m\u001b[0m \u001b[1m1s\u001b[0m 4ms/step - loss: 1.0938 - mean_absolute_error: 0.7568 - mean_squared_error: 1.0938 - val_loss: 0.9934 - val_mean_absolute_error: 0.6848 - val_mean_squared_error: 0.9934\n",
      "Epoch 23/100\n",
      "\u001b[1m338/338\u001b[0m \u001b[32m━━━━━━━━━━━━━━━━━━━━\u001b[0m\u001b[37m\u001b[0m \u001b[1m2s\u001b[0m 4ms/step - loss: 1.0410 - mean_absolute_error: 0.7286 - mean_squared_error: 1.0410 - val_loss: 0.9984 - val_mean_absolute_error: 0.7107 - val_mean_squared_error: 0.9984\n",
      "Epoch 24/100\n",
      "\u001b[1m338/338\u001b[0m \u001b[32m━━━━━━━━━━━━━━━━━━━━\u001b[0m\u001b[37m\u001b[0m \u001b[1m1s\u001b[0m 4ms/step - loss: 1.0818 - mean_absolute_error: 0.7461 - mean_squared_error: 1.0818 - val_loss: 1.5202 - val_mean_absolute_error: 1.0191 - val_mean_squared_error: 1.5202\n",
      "Epoch 25/100\n",
      "\u001b[1m338/338\u001b[0m \u001b[32m━━━━━━━━━━━━━━━━━━━━\u001b[0m\u001b[37m\u001b[0m \u001b[1m1s\u001b[0m 4ms/step - loss: 1.0803 - mean_absolute_error: 0.7541 - mean_squared_error: 1.0803 - val_loss: 1.1608 - val_mean_absolute_error: 0.7975 - val_mean_squared_error: 1.1608\n",
      "Epoch 26/100\n",
      "\u001b[1m338/338\u001b[0m \u001b[32m━━━━━━━━━━━━━━━━━━━━\u001b[0m\u001b[37m\u001b[0m \u001b[1m1s\u001b[0m 4ms/step - loss: 1.0636 - mean_absolute_error: 0.7301 - mean_squared_error: 1.0636 - val_loss: 0.9930 - val_mean_absolute_error: 0.6912 - val_mean_squared_error: 0.9930\n",
      "Epoch 27/100\n",
      "\u001b[1m338/338\u001b[0m \u001b[32m━━━━━━━━━━━━━━━━━━━━\u001b[0m\u001b[37m\u001b[0m \u001b[1m1s\u001b[0m 4ms/step - loss: 1.0641 - mean_absolute_error: 0.7412 - mean_squared_error: 1.0641 - val_loss: 1.0207 - val_mean_absolute_error: 0.7069 - val_mean_squared_error: 1.0207\n",
      "Epoch 28/100\n",
      "\u001b[1m338/338\u001b[0m \u001b[32m━━━━━━━━━━━━━━━━━━━━\u001b[0m\u001b[37m\u001b[0m \u001b[1m1s\u001b[0m 4ms/step - loss: 1.0665 - mean_absolute_error: 0.7408 - mean_squared_error: 1.0665 - val_loss: 0.9729 - val_mean_absolute_error: 0.6669 - val_mean_squared_error: 0.9729\n",
      "Epoch 29/100\n",
      "\u001b[1m338/338\u001b[0m \u001b[32m━━━━━━━━━━━━━━━━━━━━\u001b[0m\u001b[37m\u001b[0m \u001b[1m2s\u001b[0m 4ms/step - loss: 1.0603 - mean_absolute_error: 0.7302 - mean_squared_error: 1.0603 - val_loss: 1.0198 - val_mean_absolute_error: 0.7167 - val_mean_squared_error: 1.0198\n",
      "Epoch 30/100\n",
      "\u001b[1m338/338\u001b[0m \u001b[32m━━━━━━━━━━━━━━━━━━━━\u001b[0m\u001b[37m\u001b[0m \u001b[1m1s\u001b[0m 4ms/step - loss: 1.0493 - mean_absolute_error: 0.7315 - mean_squared_error: 1.0493 - val_loss: 1.0146 - val_mean_absolute_error: 0.6878 - val_mean_squared_error: 1.0146\n",
      "Epoch 31/100\n",
      "\u001b[1m338/338\u001b[0m \u001b[32m━━━━━━━━━━━━━━━━━━━━\u001b[0m\u001b[37m\u001b[0m \u001b[1m2s\u001b[0m 4ms/step - loss: 1.0329 - mean_absolute_error: 0.7123 - mean_squared_error: 1.0329 - val_loss: 0.9697 - val_mean_absolute_error: 0.6834 - val_mean_squared_error: 0.9697\n",
      "Epoch 32/100\n",
      "\u001b[1m338/338\u001b[0m \u001b[32m━━━━━━━━━━━━━━━━━━━━\u001b[0m\u001b[37m\u001b[0m \u001b[1m1s\u001b[0m 4ms/step - loss: 1.0309 - mean_absolute_error: 0.7229 - mean_squared_error: 1.0309 - val_loss: 1.0309 - val_mean_absolute_error: 0.7123 - val_mean_squared_error: 1.0309\n",
      "Epoch 33/100\n",
      "\u001b[1m338/338\u001b[0m \u001b[32m━━━━━━━━━━━━━━━━━━━━\u001b[0m\u001b[37m\u001b[0m \u001b[1m1s\u001b[0m 4ms/step - loss: 0.9976 - mean_absolute_error: 0.7006 - mean_squared_error: 0.9976 - val_loss: 1.0078 - val_mean_absolute_error: 0.7080 - val_mean_squared_error: 1.0078\n",
      "Epoch 34/100\n",
      "\u001b[1m338/338\u001b[0m \u001b[32m━━━━━━━━━━━━━━━━━━━━\u001b[0m\u001b[37m\u001b[0m \u001b[1m2s\u001b[0m 5ms/step - loss: 1.0538 - mean_absolute_error: 0.7297 - mean_squared_error: 1.0538 - val_loss: 1.0890 - val_mean_absolute_error: 0.7466 - val_mean_squared_error: 1.0890\n",
      "Epoch 35/100\n",
      "\u001b[1m338/338\u001b[0m \u001b[32m━━━━━━━━━━━━━━━━━━━━\u001b[0m\u001b[37m\u001b[0m \u001b[1m2s\u001b[0m 5ms/step - loss: 1.0092 - mean_absolute_error: 0.7075 - mean_squared_error: 1.0092 - val_loss: 1.0178 - val_mean_absolute_error: 0.6929 - val_mean_squared_error: 1.0178\n",
      "Epoch 36/100\n",
      "\u001b[1m338/338\u001b[0m \u001b[32m━━━━━━━━━━━━━━━━━━━━\u001b[0m\u001b[37m\u001b[0m \u001b[1m1s\u001b[0m 4ms/step - loss: 0.9853 - mean_absolute_error: 0.6948 - mean_squared_error: 0.9853 - val_loss: 0.9888 - val_mean_absolute_error: 0.6863 - val_mean_squared_error: 0.9888\n",
      "Epoch 37/100\n",
      "\u001b[1m338/338\u001b[0m \u001b[32m━━━━━━━━━━━━━━━━━━━━\u001b[0m\u001b[37m\u001b[0m \u001b[1m2s\u001b[0m 4ms/step - loss: 1.0029 - mean_absolute_error: 0.7055 - mean_squared_error: 1.0029 - val_loss: 1.0520 - val_mean_absolute_error: 0.6686 - val_mean_squared_error: 1.0520\n",
      "Epoch 38/100\n",
      "\u001b[1m338/338\u001b[0m \u001b[32m━━━━━━━━━━━━━━━━━━━━\u001b[0m\u001b[37m\u001b[0m \u001b[1m2s\u001b[0m 5ms/step - loss: 1.0079 - mean_absolute_error: 0.7049 - mean_squared_error: 1.0079 - val_loss: 1.1217 - val_mean_absolute_error: 0.7573 - val_mean_squared_error: 1.1217\n",
      "Epoch 39/100\n",
      "\u001b[1m338/338\u001b[0m \u001b[32m━━━━━━━━━━━━━━━━━━━━\u001b[0m\u001b[37m\u001b[0m \u001b[1m1s\u001b[0m 4ms/step - loss: 1.0040 - mean_absolute_error: 0.7042 - mean_squared_error: 1.0040 - val_loss: 0.9573 - val_mean_absolute_error: 0.6564 - val_mean_squared_error: 0.9573\n",
      "Epoch 40/100\n",
      "\u001b[1m338/338\u001b[0m \u001b[32m━━━━━━━━━━━━━━━━━━━━\u001b[0m\u001b[37m\u001b[0m \u001b[1m1s\u001b[0m 4ms/step - loss: 0.9712 - mean_absolute_error: 0.6790 - mean_squared_error: 0.9712 - val_loss: 0.9952 - val_mean_absolute_error: 0.6824 - val_mean_squared_error: 0.9952\n",
      "Epoch 41/100\n",
      "\u001b[1m338/338\u001b[0m \u001b[32m━━━━━━━━━━━━━━━━━━━━\u001b[0m\u001b[37m\u001b[0m \u001b[1m1s\u001b[0m 4ms/step - loss: 0.9554 - mean_absolute_error: 0.6832 - mean_squared_error: 0.9554 - val_loss: 0.9698 - val_mean_absolute_error: 0.7017 - val_mean_squared_error: 0.9698\n",
      "Epoch 42/100\n",
      "\u001b[1m338/338\u001b[0m \u001b[32m━━━━━━━━━━━━━━━━━━━━\u001b[0m\u001b[37m\u001b[0m \u001b[1m1s\u001b[0m 4ms/step - loss: 0.9615 - mean_absolute_error: 0.6837 - mean_squared_error: 0.9615 - val_loss: 0.9503 - val_mean_absolute_error: 0.6704 - val_mean_squared_error: 0.9503\n",
      "Epoch 43/100\n",
      "\u001b[1m338/338\u001b[0m \u001b[32m━━━━━━━━━━━━━━━━━━━━\u001b[0m\u001b[37m\u001b[0m \u001b[1m1s\u001b[0m 4ms/step - loss: 0.9592 - mean_absolute_error: 0.6845 - mean_squared_error: 0.9592 - val_loss: 0.9978 - val_mean_absolute_error: 0.7105 - val_mean_squared_error: 0.9978\n",
      "Epoch 44/100\n",
      "\u001b[1m338/338\u001b[0m \u001b[32m━━━━━━━━━━━━━━━━━━━━\u001b[0m\u001b[37m\u001b[0m \u001b[1m2s\u001b[0m 4ms/step - loss: 1.0345 - mean_absolute_error: 0.7184 - mean_squared_error: 1.0345 - val_loss: 0.9754 - val_mean_absolute_error: 0.7264 - val_mean_squared_error: 0.9754\n",
      "Epoch 45/100\n",
      "\u001b[1m338/338\u001b[0m \u001b[32m━━━━━━━━━━━━━━━━━━━━\u001b[0m\u001b[37m\u001b[0m \u001b[1m2s\u001b[0m 5ms/step - loss: 0.9644 - mean_absolute_error: 0.6853 - mean_squared_error: 0.9644 - val_loss: 0.9639 - val_mean_absolute_error: 0.6704 - val_mean_squared_error: 0.9639\n",
      "Epoch 46/100\n",
      "\u001b[1m338/338\u001b[0m \u001b[32m━━━━━━━━━━━━━━━━━━━━\u001b[0m\u001b[37m\u001b[0m \u001b[1m1s\u001b[0m 4ms/step - loss: 0.9806 - mean_absolute_error: 0.6941 - mean_squared_error: 0.9806 - val_loss: 1.0663 - val_mean_absolute_error: 0.6915 - val_mean_squared_error: 1.0663\n",
      "Epoch 47/100\n",
      "\u001b[1m338/338\u001b[0m \u001b[32m━━━━━━━━━━━━━━━━━━━━\u001b[0m\u001b[37m\u001b[0m \u001b[1m1s\u001b[0m 4ms/step - loss: 0.9712 - mean_absolute_error: 0.6881 - mean_squared_error: 0.9712 - val_loss: 0.9568 - val_mean_absolute_error: 0.6553 - val_mean_squared_error: 0.9568\n",
      "Epoch 48/100\n",
      "\u001b[1m338/338\u001b[0m \u001b[32m━━━━━━━━━━━━━━━━━━━━\u001b[0m\u001b[37m\u001b[0m \u001b[1m2s\u001b[0m 4ms/step - loss: 0.9596 - mean_absolute_error: 0.6814 - mean_squared_error: 0.9596 - val_loss: 0.9796 - val_mean_absolute_error: 0.6839 - val_mean_squared_error: 0.9796\n",
      "Epoch 49/100\n",
      "\u001b[1m338/338\u001b[0m \u001b[32m━━━━━━━━━━━━━━━━━━━━\u001b[0m\u001b[37m\u001b[0m \u001b[1m2s\u001b[0m 5ms/step - loss: 0.9493 - mean_absolute_error: 0.6767 - mean_squared_error: 0.9493 - val_loss: 0.9974 - val_mean_absolute_error: 0.6926 - val_mean_squared_error: 0.9974\n",
      "Epoch 50/100\n",
      "\u001b[1m338/338\u001b[0m \u001b[32m━━━━━━━━━━━━━━━━━━━━\u001b[0m\u001b[37m\u001b[0m \u001b[1m1s\u001b[0m 4ms/step - loss: 0.9403 - mean_absolute_error: 0.6780 - mean_squared_error: 0.9403 - val_loss: 0.9266 - val_mean_absolute_error: 0.6298 - val_mean_squared_error: 0.9266\n",
      "Epoch 51/100\n",
      "\u001b[1m338/338\u001b[0m \u001b[32m━━━━━━━━━━━━━━━━━━━━\u001b[0m\u001b[37m\u001b[0m \u001b[1m1s\u001b[0m 4ms/step - loss: 0.9208 - mean_absolute_error: 0.6658 - mean_squared_error: 0.9208 - val_loss: 1.0214 - val_mean_absolute_error: 0.7028 - val_mean_squared_error: 1.0214\n",
      "Epoch 52/100\n",
      "\u001b[1m338/338\u001b[0m \u001b[32m━━━━━━━━━━━━━━━━━━━━\u001b[0m\u001b[37m\u001b[0m \u001b[1m1s\u001b[0m 4ms/step - loss: 0.9353 - mean_absolute_error: 0.6671 - mean_squared_error: 0.9353 - val_loss: 0.9666 - val_mean_absolute_error: 0.6428 - val_mean_squared_error: 0.9666\n",
      "Epoch 53/100\n",
      "\u001b[1m338/338\u001b[0m \u001b[32m━━━━━━━━━━━━━━━━━━━━\u001b[0m\u001b[37m\u001b[0m \u001b[1m1s\u001b[0m 4ms/step - loss: 1.0106 - mean_absolute_error: 0.7048 - mean_squared_error: 1.0106 - val_loss: 0.9032 - val_mean_absolute_error: 0.6594 - val_mean_squared_error: 0.9032\n",
      "Epoch 54/100\n",
      "\u001b[1m338/338\u001b[0m \u001b[32m━━━━━━━━━━━━━━━━━━━━\u001b[0m\u001b[37m\u001b[0m \u001b[1m1s\u001b[0m 4ms/step - loss: 0.9034 - mean_absolute_error: 0.6535 - mean_squared_error: 0.9034 - val_loss: 0.9341 - val_mean_absolute_error: 0.6599 - val_mean_squared_error: 0.9341\n",
      "Epoch 55/100\n",
      "\u001b[1m338/338\u001b[0m \u001b[32m━━━━━━━━━━━━━━━━━━━━\u001b[0m\u001b[37m\u001b[0m \u001b[1m2s\u001b[0m 5ms/step - loss: 0.8901 - mean_absolute_error: 0.6503 - mean_squared_error: 0.8901 - val_loss: 0.8750 - val_mean_absolute_error: 0.6238 - val_mean_squared_error: 0.8750\n",
      "Epoch 56/100\n",
      "\u001b[1m338/338\u001b[0m \u001b[32m━━━━━━━━━━━━━━━━━━━━\u001b[0m\u001b[37m\u001b[0m \u001b[1m2s\u001b[0m 4ms/step - loss: 0.9132 - mean_absolute_error: 0.6612 - mean_squared_error: 0.9132 - val_loss: 0.8754 - val_mean_absolute_error: 0.6227 - val_mean_squared_error: 0.8754\n",
      "Epoch 57/100\n",
      "\u001b[1m338/338\u001b[0m \u001b[32m━━━━━━━━━━━━━━━━━━━━\u001b[0m\u001b[37m\u001b[0m \u001b[1m2s\u001b[0m 6ms/step - loss: 0.8898 - mean_absolute_error: 0.6480 - mean_squared_error: 0.8898 - val_loss: 0.8915 - val_mean_absolute_error: 0.6390 - val_mean_squared_error: 0.8915\n",
      "Epoch 58/100\n",
      "\u001b[1m338/338\u001b[0m \u001b[32m━━━━━━━━━━━━━━━━━━━━\u001b[0m\u001b[37m\u001b[0m \u001b[1m2s\u001b[0m 4ms/step - loss: 0.8900 - mean_absolute_error: 0.6446 - mean_squared_error: 0.8900 - val_loss: 0.8406 - val_mean_absolute_error: 0.6179 - val_mean_squared_error: 0.8406\n",
      "Epoch 59/100\n",
      "\u001b[1m338/338\u001b[0m \u001b[32m━━━━━━━━━━━━━━━━━━━━\u001b[0m\u001b[37m\u001b[0m \u001b[1m1s\u001b[0m 4ms/step - loss: 0.8917 - mean_absolute_error: 0.6462 - mean_squared_error: 0.8917 - val_loss: 0.9125 - val_mean_absolute_error: 0.6330 - val_mean_squared_error: 0.9125\n",
      "Epoch 60/100\n",
      "\u001b[1m338/338\u001b[0m \u001b[32m━━━━━━━━━━━━━━━━━━━━\u001b[0m\u001b[37m\u001b[0m \u001b[1m1s\u001b[0m 4ms/step - loss: 0.8427 - mean_absolute_error: 0.6303 - mean_squared_error: 0.8427 - val_loss: 0.8336 - val_mean_absolute_error: 0.6109 - val_mean_squared_error: 0.8336\n",
      "Epoch 61/100\n",
      "\u001b[1m338/338\u001b[0m \u001b[32m━━━━━━━━━━━━━━━━━━━━\u001b[0m\u001b[37m\u001b[0m \u001b[1m1s\u001b[0m 4ms/step - loss: 0.8452 - mean_absolute_error: 0.6331 - mean_squared_error: 0.8452 - val_loss: 0.8586 - val_mean_absolute_error: 0.6216 - val_mean_squared_error: 0.8586\n",
      "Epoch 62/100\n",
      "\u001b[1m338/338\u001b[0m \u001b[32m━━━━━━━━━━━━━━━━━━━━\u001b[0m\u001b[37m\u001b[0m \u001b[1m1s\u001b[0m 4ms/step - loss: 0.8994 - mean_absolute_error: 0.6489 - mean_squared_error: 0.8994 - val_loss: 0.8882 - val_mean_absolute_error: 0.6438 - val_mean_squared_error: 0.8882\n",
      "Epoch 63/100\n",
      "\u001b[1m338/338\u001b[0m \u001b[32m━━━━━━━━━━━━━━━━━━━━\u001b[0m\u001b[37m\u001b[0m \u001b[1m2s\u001b[0m 4ms/step - loss: 0.8845 - mean_absolute_error: 0.6433 - mean_squared_error: 0.8845 - val_loss: 0.8453 - val_mean_absolute_error: 0.5986 - val_mean_squared_error: 0.8453\n",
      "Epoch 64/100\n",
      "\u001b[1m338/338\u001b[0m \u001b[32m━━━━━━━━━━━━━━━━━━━━\u001b[0m\u001b[37m\u001b[0m \u001b[1m2s\u001b[0m 5ms/step - loss: 0.8673 - mean_absolute_error: 0.6385 - mean_squared_error: 0.8673 - val_loss: 0.8782 - val_mean_absolute_error: 0.6367 - val_mean_squared_error: 0.8782\n",
      "Epoch 65/100\n",
      "\u001b[1m338/338\u001b[0m \u001b[32m━━━━━━━━━━━━━━━━━━━━\u001b[0m\u001b[37m\u001b[0m \u001b[1m1s\u001b[0m 4ms/step - loss: 0.8321 - mean_absolute_error: 0.6260 - mean_squared_error: 0.8321 - val_loss: 0.9201 - val_mean_absolute_error: 0.6629 - val_mean_squared_error: 0.9201\n",
      "Epoch 66/100\n",
      "\u001b[1m338/338\u001b[0m \u001b[32m━━━━━━━━━━━━━━━━━━━━\u001b[0m\u001b[37m\u001b[0m \u001b[1m1s\u001b[0m 4ms/step - loss: 0.8561 - mean_absolute_error: 0.6394 - mean_squared_error: 0.8561 - val_loss: 0.8830 - val_mean_absolute_error: 0.6211 - val_mean_squared_error: 0.8830\n",
      "Epoch 67/100\n",
      "\u001b[1m338/338\u001b[0m \u001b[32m━━━━━━━━━━━━━━━━━━━━\u001b[0m\u001b[37m\u001b[0m \u001b[1m1s\u001b[0m 4ms/step - loss: 0.8603 - mean_absolute_error: 0.6406 - mean_squared_error: 0.8603 - val_loss: 0.8557 - val_mean_absolute_error: 0.6301 - val_mean_squared_error: 0.8557\n",
      "Epoch 68/100\n",
      "\u001b[1m338/338\u001b[0m \u001b[32m━━━━━━━━━━━━━━━━━━━━\u001b[0m\u001b[37m\u001b[0m \u001b[1m1s\u001b[0m 4ms/step - loss: 0.8487 - mean_absolute_error: 0.6309 - mean_squared_error: 0.8487 - val_loss: 0.9186 - val_mean_absolute_error: 0.6493 - val_mean_squared_error: 0.9186\n",
      "Epoch 69/100\n",
      "\u001b[1m338/338\u001b[0m \u001b[32m━━━━━━━━━━━━━━━━━━━━\u001b[0m\u001b[37m\u001b[0m \u001b[1m1s\u001b[0m 4ms/step - loss: 0.8330 - mean_absolute_error: 0.6160 - mean_squared_error: 0.8330 - val_loss: 0.9012 - val_mean_absolute_error: 0.7031 - val_mean_squared_error: 0.9012\n",
      "Epoch 70/100\n",
      "\u001b[1m338/338\u001b[0m \u001b[32m━━━━━━━━━━━━━━━━━━━━\u001b[0m\u001b[37m\u001b[0m \u001b[1m1s\u001b[0m 4ms/step - loss: 0.8029 - mean_absolute_error: 0.6196 - mean_squared_error: 0.8029 - val_loss: 0.8148 - val_mean_absolute_error: 0.5975 - val_mean_squared_error: 0.8148\n",
      "Epoch 71/100\n",
      "\u001b[1m338/338\u001b[0m \u001b[32m━━━━━━━━━━━━━━━━━━━━\u001b[0m\u001b[37m\u001b[0m \u001b[1m1s\u001b[0m 4ms/step - loss: 0.7984 - mean_absolute_error: 0.6056 - mean_squared_error: 0.7984 - val_loss: 0.8357 - val_mean_absolute_error: 0.6068 - val_mean_squared_error: 0.8357\n",
      "Epoch 72/100\n",
      "\u001b[1m338/338\u001b[0m \u001b[32m━━━━━━━━━━━━━━━━━━━━\u001b[0m\u001b[37m\u001b[0m \u001b[1m1s\u001b[0m 4ms/step - loss: 0.8187 - mean_absolute_error: 0.6129 - mean_squared_error: 0.8187 - val_loss: 0.8477 - val_mean_absolute_error: 0.6379 - val_mean_squared_error: 0.8477\n",
      "Epoch 73/100\n",
      "\u001b[1m338/338\u001b[0m \u001b[32m━━━━━━━━━━━━━━━━━━━━\u001b[0m\u001b[37m\u001b[0m \u001b[1m1s\u001b[0m 4ms/step - loss: 0.7924 - mean_absolute_error: 0.6082 - mean_squared_error: 0.7924 - val_loss: 0.7930 - val_mean_absolute_error: 0.5876 - val_mean_squared_error: 0.7930\n",
      "Epoch 74/100\n",
      "\u001b[1m338/338\u001b[0m \u001b[32m━━━━━━━━━━━━━━━━━━━━\u001b[0m\u001b[37m\u001b[0m \u001b[1m2s\u001b[0m 4ms/step - loss: 0.7851 - mean_absolute_error: 0.5979 - mean_squared_error: 0.7851 - val_loss: 0.7762 - val_mean_absolute_error: 0.5872 - val_mean_squared_error: 0.7762\n",
      "Epoch 75/100\n",
      "\u001b[1m338/338\u001b[0m \u001b[32m━━━━━━━━━━━━━━━━━━━━\u001b[0m\u001b[37m\u001b[0m \u001b[1m2s\u001b[0m 4ms/step - loss: 0.7869 - mean_absolute_error: 0.5949 - mean_squared_error: 0.7869 - val_loss: 0.9706 - val_mean_absolute_error: 0.7543 - val_mean_squared_error: 0.9706\n",
      "Epoch 76/100\n",
      "\u001b[1m338/338\u001b[0m \u001b[32m━━━━━━━━━━━━━━━━━━━━\u001b[0m\u001b[37m\u001b[0m \u001b[1m1s\u001b[0m 4ms/step - loss: 0.7873 - mean_absolute_error: 0.6064 - mean_squared_error: 0.7873 - val_loss: 0.7991 - val_mean_absolute_error: 0.5977 - val_mean_squared_error: 0.7991\n",
      "Epoch 77/100\n",
      "\u001b[1m338/338\u001b[0m \u001b[32m━━━━━━━━━━━━━━━━━━━━\u001b[0m\u001b[37m\u001b[0m \u001b[1m2s\u001b[0m 4ms/step - loss: 0.8093 - mean_absolute_error: 0.6150 - mean_squared_error: 0.8093 - val_loss: 0.8819 - val_mean_absolute_error: 0.6423 - val_mean_squared_error: 0.8819\n",
      "Epoch 78/100\n",
      "\u001b[1m338/338\u001b[0m \u001b[32m━━━━━━━━━━━━━━━━━━━━\u001b[0m\u001b[37m\u001b[0m \u001b[1m2s\u001b[0m 5ms/step - loss: 0.7964 - mean_absolute_error: 0.6075 - mean_squared_error: 0.7964 - val_loss: 0.9596 - val_mean_absolute_error: 0.7254 - val_mean_squared_error: 0.9596\n",
      "Epoch 79/100\n",
      "\u001b[1m338/338\u001b[0m \u001b[32m━━━━━━━━━━━━━━━━━━━━\u001b[0m\u001b[37m\u001b[0m \u001b[1m1s\u001b[0m 4ms/step - loss: 0.7571 - mean_absolute_error: 0.5880 - mean_squared_error: 0.7571 - val_loss: 0.8122 - val_mean_absolute_error: 0.6052 - val_mean_squared_error: 0.8122\n",
      "Epoch 80/100\n",
      "\u001b[1m338/338\u001b[0m \u001b[32m━━━━━━━━━━━━━━━━━━━━\u001b[0m\u001b[37m\u001b[0m \u001b[1m2s\u001b[0m 4ms/step - loss: 0.7636 - mean_absolute_error: 0.5882 - mean_squared_error: 0.7636 - val_loss: 0.7588 - val_mean_absolute_error: 0.5651 - val_mean_squared_error: 0.7588\n",
      "Epoch 81/100\n",
      "\u001b[1m338/338\u001b[0m \u001b[32m━━━━━━━━━━━━━━━━━━━━\u001b[0m\u001b[37m\u001b[0m \u001b[1m2s\u001b[0m 5ms/step - loss: 0.7580 - mean_absolute_error: 0.5865 - mean_squared_error: 0.7580 - val_loss: 0.7406 - val_mean_absolute_error: 0.5839 - val_mean_squared_error: 0.7406\n",
      "Epoch 82/100\n",
      "\u001b[1m338/338\u001b[0m \u001b[32m━━━━━━━━━━━━━━━━━━━━\u001b[0m\u001b[37m\u001b[0m \u001b[1m1s\u001b[0m 4ms/step - loss: 0.6969 - mean_absolute_error: 0.5520 - mean_squared_error: 0.6969 - val_loss: 0.7729 - val_mean_absolute_error: 0.5898 - val_mean_squared_error: 0.7729\n",
      "Epoch 83/100\n",
      "\u001b[1m338/338\u001b[0m \u001b[32m━━━━━━━━━━━━━━━━━━━━\u001b[0m\u001b[37m\u001b[0m \u001b[1m2s\u001b[0m 4ms/step - loss: 0.7324 - mean_absolute_error: 0.5754 - mean_squared_error: 0.7324 - val_loss: 0.7920 - val_mean_absolute_error: 0.5802 - val_mean_squared_error: 0.7920\n",
      "Epoch 84/100\n",
      "\u001b[1m338/338\u001b[0m \u001b[32m━━━━━━━━━━━━━━━━━━━━\u001b[0m\u001b[37m\u001b[0m \u001b[1m2s\u001b[0m 5ms/step - loss: 0.7429 - mean_absolute_error: 0.5848 - mean_squared_error: 0.7429 - val_loss: 1.0142 - val_mean_absolute_error: 0.6796 - val_mean_squared_error: 1.0142\n",
      "Epoch 85/100\n",
      "\u001b[1m338/338\u001b[0m \u001b[32m━━━━━━━━━━━━━━━━━━━━\u001b[0m\u001b[37m\u001b[0m \u001b[1m3s\u001b[0m 5ms/step - loss: 0.7600 - mean_absolute_error: 0.5904 - mean_squared_error: 0.7600 - val_loss: 0.8429 - val_mean_absolute_error: 0.6009 - val_mean_squared_error: 0.8429\n",
      "Epoch 86/100\n",
      "\u001b[1m338/338\u001b[0m \u001b[32m━━━━━━━━━━━━━━━━━━━━\u001b[0m\u001b[37m\u001b[0m \u001b[1m2s\u001b[0m 5ms/step - loss: 0.7535 - mean_absolute_error: 0.5928 - mean_squared_error: 0.7535 - val_loss: 0.7359 - val_mean_absolute_error: 0.5663 - val_mean_squared_error: 0.7359\n",
      "Epoch 87/100\n",
      "\u001b[1m338/338\u001b[0m \u001b[32m━━━━━━━━━━━━━━━━━━━━\u001b[0m\u001b[37m\u001b[0m \u001b[1m1s\u001b[0m 4ms/step - loss: 0.7274 - mean_absolute_error: 0.5739 - mean_squared_error: 0.7274 - val_loss: 0.7704 - val_mean_absolute_error: 0.5783 - val_mean_squared_error: 0.7704\n",
      "Epoch 88/100\n",
      "\u001b[1m338/338\u001b[0m \u001b[32m━━━━━━━━━━━━━━━━━━━━\u001b[0m\u001b[37m\u001b[0m \u001b[1m1s\u001b[0m 4ms/step - loss: 0.7246 - mean_absolute_error: 0.5657 - mean_squared_error: 0.7246 - val_loss: 0.6939 - val_mean_absolute_error: 0.5372 - val_mean_squared_error: 0.6939\n",
      "Epoch 89/100\n",
      "\u001b[1m338/338\u001b[0m \u001b[32m━━━━━━━━━━━━━━━━━━━━\u001b[0m\u001b[37m\u001b[0m \u001b[1m2s\u001b[0m 4ms/step - loss: 0.6917 - mean_absolute_error: 0.5551 - mean_squared_error: 0.6917 - val_loss: 0.7536 - val_mean_absolute_error: 0.5758 - val_mean_squared_error: 0.7536\n",
      "Epoch 90/100\n",
      "\u001b[1m338/338\u001b[0m \u001b[32m━━━━━━━━━━━━━━━━━━━━\u001b[0m\u001b[37m\u001b[0m \u001b[1m1s\u001b[0m 4ms/step - loss: 0.6986 - mean_absolute_error: 0.5537 - mean_squared_error: 0.6986 - val_loss: 0.7511 - val_mean_absolute_error: 0.5913 - val_mean_squared_error: 0.7511\n",
      "Epoch 91/100\n",
      "\u001b[1m338/338\u001b[0m \u001b[32m━━━━━━━━━━━━━━━━━━━━\u001b[0m\u001b[37m\u001b[0m \u001b[1m1s\u001b[0m 4ms/step - loss: 0.6682 - mean_absolute_error: 0.5447 - mean_squared_error: 0.6682 - val_loss: 0.7672 - val_mean_absolute_error: 0.5658 - val_mean_squared_error: 0.7672\n",
      "Epoch 92/100\n",
      "\u001b[1m338/338\u001b[0m \u001b[32m━━━━━━━━━━━━━━━━━━━━\u001b[0m\u001b[37m\u001b[0m \u001b[1m1s\u001b[0m 4ms/step - loss: 0.6941 - mean_absolute_error: 0.5543 - mean_squared_error: 0.6941 - val_loss: 0.9274 - val_mean_absolute_error: 0.6409 - val_mean_squared_error: 0.9274\n",
      "Epoch 93/100\n",
      "\u001b[1m338/338\u001b[0m \u001b[32m━━━━━━━━━━━━━━━━━━━━\u001b[0m\u001b[37m\u001b[0m \u001b[1m2s\u001b[0m 4ms/step - loss: 0.6959 - mean_absolute_error: 0.5550 - mean_squared_error: 0.6959 - val_loss: 0.7441 - val_mean_absolute_error: 0.5979 - val_mean_squared_error: 0.7441\n",
      "Epoch 94/100\n",
      "\u001b[1m338/338\u001b[0m \u001b[32m━━━━━━━━━━━━━━━━━━━━\u001b[0m\u001b[37m\u001b[0m \u001b[1m2s\u001b[0m 4ms/step - loss: 0.6877 - mean_absolute_error: 0.5548 - mean_squared_error: 0.6877 - val_loss: 0.7358 - val_mean_absolute_error: 0.5613 - val_mean_squared_error: 0.7358\n",
      "Epoch 95/100\n",
      "\u001b[1m338/338\u001b[0m \u001b[32m━━━━━━━━━━━━━━━━━━━━\u001b[0m\u001b[37m\u001b[0m \u001b[1m2s\u001b[0m 4ms/step - loss: 0.6858 - mean_absolute_error: 0.5519 - mean_squared_error: 0.6858 - val_loss: 0.6787 - val_mean_absolute_error: 0.5482 - val_mean_squared_error: 0.6787\n",
      "Epoch 96/100\n",
      "\u001b[1m338/338\u001b[0m \u001b[32m━━━━━━━━━━━━━━━━━━━━\u001b[0m\u001b[37m\u001b[0m \u001b[1m1s\u001b[0m 4ms/step - loss: 0.6752 - mean_absolute_error: 0.5526 - mean_squared_error: 0.6752 - val_loss: 0.7338 - val_mean_absolute_error: 0.5719 - val_mean_squared_error: 0.7338\n",
      "Epoch 97/100\n",
      "\u001b[1m338/338\u001b[0m \u001b[32m━━━━━━━━━━━━━━━━━━━━\u001b[0m\u001b[37m\u001b[0m \u001b[1m1s\u001b[0m 4ms/step - loss: 0.6709 - mean_absolute_error: 0.5451 - mean_squared_error: 0.6709 - val_loss: 0.6748 - val_mean_absolute_error: 0.5410 - val_mean_squared_error: 0.6748\n",
      "Epoch 98/100\n",
      "\u001b[1m338/338\u001b[0m \u001b[32m━━━━━━━━━━━━━━━━━━━━\u001b[0m\u001b[37m\u001b[0m \u001b[1m1s\u001b[0m 4ms/step - loss: 0.6595 - mean_absolute_error: 0.5378 - mean_squared_error: 0.6595 - val_loss: 0.6767 - val_mean_absolute_error: 0.5319 - val_mean_squared_error: 0.6767\n",
      "Epoch 99/100\n",
      "\u001b[1m338/338\u001b[0m \u001b[32m━━━━━━━━━━━━━━━━━━━━\u001b[0m\u001b[37m\u001b[0m \u001b[1m2s\u001b[0m 4ms/step - loss: 0.6614 - mean_absolute_error: 0.5390 - mean_squared_error: 0.6614 - val_loss: 0.6998 - val_mean_absolute_error: 0.5505 - val_mean_squared_error: 0.6998\n",
      "Epoch 100/100\n",
      "\u001b[1m338/338\u001b[0m \u001b[32m━━━━━━━━━━━━━━━━━━━━\u001b[0m\u001b[37m\u001b[0m \u001b[1m2s\u001b[0m 4ms/step - loss: 0.6607 - mean_absolute_error: 0.5456 - mean_squared_error: 0.6607 - val_loss: 0.6728 - val_mean_absolute_error: 0.5500 - val_mean_squared_error: 0.6728\n"
     ]
    }
   ],
   "source": [
    "# Train the model\n",
    "data = model1.fit(x_train, y_train, epochs=100, validation_data=(x_test, y_test))# due to getting minimum r2 score i am increasing epochs from 50 to 100\n",
    "#model"
   ]
  },
  {
   "cell_type": "code",
   "execution_count": 51,
   "metadata": {},
   "outputs": [
    {
     "data": {
      "text/plain": [
       "dict_keys(['loss', 'mean_absolute_error', 'mean_squared_error', 'val_loss', 'val_mean_absolute_error', 'val_mean_squared_error'])"
      ]
     },
     "execution_count": 51,
     "metadata": {},
     "output_type": "execute_result"
    }
   ],
   "source": [
    "data.history.keys()"
   ]
  },
  {
   "cell_type": "code",
   "execution_count": 52,
   "metadata": {},
   "outputs": [
    {
     "name": "stdout",
     "output_type": "stream",
     "text": [
      "\u001b[1m113/113\u001b[0m \u001b[32m━━━━━━━━━━━━━━━━━━━━\u001b[0m\u001b[37m\u001b[0m \u001b[1m0s\u001b[0m 3ms/step - loss: 0.6598 - mean_absolute_error: 0.5477 - mean_squared_error: 0.6598\n",
      "Test Loss (MSE): [0.6728342175483704, 0.6728342175483704, 0.5500078201293945]\n"
     ]
    }
   ],
   "source": [
    "# Evaluate the model\n",
    "loss = model1.evaluate(x_test, y_test)\n",
    "print(f'Test Loss (MSE): {loss}')"
   ]
  },
  {
   "cell_type": "code",
   "execution_count": 53,
   "metadata": {},
   "outputs": [
    {
     "name": "stdout",
     "output_type": "stream",
     "text": [
      "\u001b[1m113/113\u001b[0m \u001b[32m━━━━━━━━━━━━━━━━━━━━\u001b[0m\u001b[37m\u001b[0m \u001b[1m1s\u001b[0m 4ms/step\n",
      "R² score: 0.8794708482873008\n"
     ]
    }
   ],
   "source": [
    "from sklearn.metrics import r2_score\n",
    "y_pred = model1.predict(x_test)\n",
    "r2 = r2_score(y_test, y_pred)\n",
    "print(f'R² score: {r2}')"
   ]
  },
  {
   "cell_type": "code",
   "execution_count": 54,
   "metadata": {},
   "outputs": [
    {
     "data": {
      "text/html": [
       "<div>\n",
       "<style scoped>\n",
       "    .dataframe tbody tr th:only-of-type {\n",
       "        vertical-align: middle;\n",
       "    }\n",
       "\n",
       "    .dataframe tbody tr th {\n",
       "        vertical-align: top;\n",
       "    }\n",
       "\n",
       "    .dataframe thead th {\n",
       "        text-align: right;\n",
       "    }\n",
       "</style>\n",
       "<table border=\"1\" class=\"dataframe\">\n",
       "  <thead>\n",
       "    <tr style=\"text-align: right;\">\n",
       "      <th></th>\n",
       "      <th>loss</th>\n",
       "      <th>mean_absolute_error</th>\n",
       "      <th>mean_squared_error</th>\n",
       "      <th>val_loss</th>\n",
       "      <th>val_mean_absolute_error</th>\n",
       "      <th>val_mean_squared_error</th>\n",
       "    </tr>\n",
       "  </thead>\n",
       "  <tbody>\n",
       "    <tr>\n",
       "      <th>0</th>\n",
       "      <td>3.097834</td>\n",
       "      <td>1.290995</td>\n",
       "      <td>3.097834</td>\n",
       "      <td>1.280474</td>\n",
       "      <td>0.873670</td>\n",
       "      <td>1.280474</td>\n",
       "    </tr>\n",
       "    <tr>\n",
       "      <th>1</th>\n",
       "      <td>1.449693</td>\n",
       "      <td>0.935857</td>\n",
       "      <td>1.449693</td>\n",
       "      <td>1.385861</td>\n",
       "      <td>0.931859</td>\n",
       "      <td>1.385861</td>\n",
       "    </tr>\n",
       "    <tr>\n",
       "      <th>2</th>\n",
       "      <td>1.339749</td>\n",
       "      <td>0.894336</td>\n",
       "      <td>1.339749</td>\n",
       "      <td>1.237828</td>\n",
       "      <td>0.855318</td>\n",
       "      <td>1.237828</td>\n",
       "    </tr>\n",
       "    <tr>\n",
       "      <th>3</th>\n",
       "      <td>1.283858</td>\n",
       "      <td>0.866373</td>\n",
       "      <td>1.283858</td>\n",
       "      <td>1.187145</td>\n",
       "      <td>0.825651</td>\n",
       "      <td>1.187145</td>\n",
       "    </tr>\n",
       "    <tr>\n",
       "      <th>4</th>\n",
       "      <td>1.226459</td>\n",
       "      <td>0.836280</td>\n",
       "      <td>1.226459</td>\n",
       "      <td>1.210869</td>\n",
       "      <td>0.875128</td>\n",
       "      <td>1.210869</td>\n",
       "    </tr>\n",
       "    <tr>\n",
       "      <th>...</th>\n",
       "      <td>...</td>\n",
       "      <td>...</td>\n",
       "      <td>...</td>\n",
       "      <td>...</td>\n",
       "      <td>...</td>\n",
       "      <td>...</td>\n",
       "    </tr>\n",
       "    <tr>\n",
       "      <th>95</th>\n",
       "      <td>0.683934</td>\n",
       "      <td>0.554293</td>\n",
       "      <td>0.683934</td>\n",
       "      <td>0.733768</td>\n",
       "      <td>0.571860</td>\n",
       "      <td>0.733768</td>\n",
       "    </tr>\n",
       "    <tr>\n",
       "      <th>96</th>\n",
       "      <td>0.682846</td>\n",
       "      <td>0.548581</td>\n",
       "      <td>0.682846</td>\n",
       "      <td>0.674770</td>\n",
       "      <td>0.540972</td>\n",
       "      <td>0.674770</td>\n",
       "    </tr>\n",
       "    <tr>\n",
       "      <th>97</th>\n",
       "      <td>0.665102</td>\n",
       "      <td>0.540550</td>\n",
       "      <td>0.665102</td>\n",
       "      <td>0.676705</td>\n",
       "      <td>0.531903</td>\n",
       "      <td>0.676705</td>\n",
       "    </tr>\n",
       "    <tr>\n",
       "      <th>98</th>\n",
       "      <td>0.659718</td>\n",
       "      <td>0.537626</td>\n",
       "      <td>0.659718</td>\n",
       "      <td>0.699781</td>\n",
       "      <td>0.550538</td>\n",
       "      <td>0.699781</td>\n",
       "    </tr>\n",
       "    <tr>\n",
       "      <th>99</th>\n",
       "      <td>0.679289</td>\n",
       "      <td>0.555626</td>\n",
       "      <td>0.679289</td>\n",
       "      <td>0.672834</td>\n",
       "      <td>0.550008</td>\n",
       "      <td>0.672834</td>\n",
       "    </tr>\n",
       "  </tbody>\n",
       "</table>\n",
       "<p>100 rows × 6 columns</p>\n",
       "</div>"
      ],
      "text/plain": [
       "        loss  mean_absolute_error  mean_squared_error  val_loss  \\\n",
       "0   3.097834             1.290995            3.097834  1.280474   \n",
       "1   1.449693             0.935857            1.449693  1.385861   \n",
       "2   1.339749             0.894336            1.339749  1.237828   \n",
       "3   1.283858             0.866373            1.283858  1.187145   \n",
       "4   1.226459             0.836280            1.226459  1.210869   \n",
       "..       ...                  ...                 ...       ...   \n",
       "95  0.683934             0.554293            0.683934  0.733768   \n",
       "96  0.682846             0.548581            0.682846  0.674770   \n",
       "97  0.665102             0.540550            0.665102  0.676705   \n",
       "98  0.659718             0.537626            0.659718  0.699781   \n",
       "99  0.679289             0.555626            0.679289  0.672834   \n",
       "\n",
       "    val_mean_absolute_error  val_mean_squared_error  \n",
       "0                  0.873670                1.280474  \n",
       "1                  0.931859                1.385861  \n",
       "2                  0.855318                1.237828  \n",
       "3                  0.825651                1.187145  \n",
       "4                  0.875128                1.210869  \n",
       "..                      ...                     ...  \n",
       "95                 0.571860                0.733768  \n",
       "96                 0.540972                0.674770  \n",
       "97                 0.531903                0.676705  \n",
       "98                 0.550538                0.699781  \n",
       "99                 0.550008                0.672834  \n",
       "\n",
       "[100 rows x 6 columns]"
      ]
     },
     "execution_count": 54,
     "metadata": {},
     "output_type": "execute_result"
    }
   ],
   "source": [
    "result = pd.DataFrame(data.history)\n",
    "result"
   ]
  },
  {
   "cell_type": "code",
   "execution_count": 56,
   "metadata": {},
   "outputs": [
    {
     "name": "stdout",
     "output_type": "stream",
     "text": [
      "Collecting matplotlib\n",
      "  Using cached matplotlib-3.9.2-cp312-cp312-win_amd64.whl.metadata (11 kB)\n",
      "Collecting contourpy>=1.0.1 (from matplotlib)\n",
      "  Using cached contourpy-1.3.0-cp312-cp312-win_amd64.whl.metadata (5.4 kB)\n",
      "Collecting cycler>=0.10 (from matplotlib)\n",
      "  Using cached cycler-0.12.1-py3-none-any.whl.metadata (3.8 kB)\n",
      "Collecting fonttools>=4.22.0 (from matplotlib)\n",
      "  Downloading fonttools-4.54.1-cp312-cp312-win_amd64.whl.metadata (167 kB)\n",
      "Collecting kiwisolver>=1.3.1 (from matplotlib)\n",
      "  Using cached kiwisolver-1.4.7-cp312-cp312-win_amd64.whl.metadata (6.4 kB)\n",
      "Requirement already satisfied: numpy>=1.23 in c:\\users\\jacquline\\onedrive\\desktop\\dvdrental\\.venv\\lib\\site-packages (from matplotlib) (1.26.4)\n",
      "Requirement already satisfied: packaging>=20.0 in c:\\users\\jacquline\\onedrive\\desktop\\dvdrental\\.venv\\lib\\site-packages (from matplotlib) (24.1)\n",
      "Requirement already satisfied: pillow>=8 in c:\\users\\jacquline\\onedrive\\desktop\\dvdrental\\.venv\\lib\\site-packages (from matplotlib) (10.4.0)\n",
      "Collecting pyparsing>=2.3.1 (from matplotlib)\n",
      "  Using cached pyparsing-3.1.4-py3-none-any.whl.metadata (5.1 kB)\n",
      "Requirement already satisfied: python-dateutil>=2.7 in c:\\users\\jacquline\\onedrive\\desktop\\dvdrental\\.venv\\lib\\site-packages (from matplotlib) (2.9.0.post0)\n",
      "Requirement already satisfied: six>=1.5 in c:\\users\\jacquline\\onedrive\\desktop\\dvdrental\\.venv\\lib\\site-packages (from python-dateutil>=2.7->matplotlib) (1.16.0)\n",
      "Using cached matplotlib-3.9.2-cp312-cp312-win_amd64.whl (7.8 MB)\n",
      "Using cached contourpy-1.3.0-cp312-cp312-win_amd64.whl (218 kB)\n",
      "Using cached cycler-0.12.1-py3-none-any.whl (8.3 kB)\n",
      "Downloading fonttools-4.54.1-cp312-cp312-win_amd64.whl (2.2 MB)\n",
      "   ---------------------------------------- 0.0/2.2 MB ? eta -:--:--\n",
      "   ---------------------------------------- 2.2/2.2 MB 20.6 MB/s eta 0:00:00\n",
      "Using cached kiwisolver-1.4.7-cp312-cp312-win_amd64.whl (55 kB)\n",
      "Using cached pyparsing-3.1.4-py3-none-any.whl (104 kB)\n",
      "Installing collected packages: pyparsing, kiwisolver, fonttools, cycler, contourpy, matplotlib\n",
      "Successfully installed contourpy-1.3.0 cycler-0.12.1 fonttools-4.54.1 kiwisolver-1.4.7 matplotlib-3.9.2 pyparsing-3.1.4\n",
      "Note: you may need to restart the kernel to use updated packages.\n"
     ]
    }
   ],
   "source": [
    "pip install matplotlib\n"
   ]
  },
  {
   "cell_type": "code",
   "execution_count": 57,
   "metadata": {},
   "outputs": [],
   "source": [
    "import matplotlib.pyplot as plt"
   ]
  },
  {
   "cell_type": "code",
   "execution_count": 58,
   "metadata": {},
   "outputs": [
    {
     "data": {
      "image/png": "[encoded data removed]",
      "text/plain": [
       "<Figure size 640x480 with 1 Axes>"
      ]
     },
     "metadata": {},
     "output_type": "display_data"
    }
   ],
   "source": [
    "# Plot Mean Absolute Error (MAE) over epochs\n",
    "plt.plot(range(1, 101), result['mean_absolute_error'], label='Training MAE')\n",
    "plt.plot(range(1, 101), result['val_mean_absolute_error'], label='Validation MAE')\n",
    "\n",
    "plt.title('Mean Absolute Error Over Epochs')\n",
    "plt.xlabel('Epoch')\n",
    "plt.ylabel('MAE')\n",
    "plt.legend()\n",
    "plt.show()"
   ]
  },
  {
   "cell_type": "code",
   "execution_count": 60,
   "metadata": {},
   "outputs": [
    {
     "data": {
      "image/png": "[encoded data removed]",
      "text/plain": [
       "<Figure size 640x480 with 1 Axes>"
      ]
     },
     "metadata": {},
     "output_type": "display_data"
    }
   ],
   "source": [
    "# Plot the training and validation loss\n",
    "\n",
    "plt.plot(data.history['loss'], label='Training Loss (MSE)')\n",
    "plt.plot(data.history['val_loss'], label='Validation Loss (MSE)')\n",
    "plt.title('Training and Validation Loss Over Epochs')\n",
    "plt.xlabel('Epoch')\n",
    "plt.ylabel('Mean Squared Error (MSE)')\n",
    "plt.legend()\n",
    "plt.show()"
   ]
  },
  {
   "cell_type": "code",
   "execution_count": 61,
   "metadata": {},
   "outputs": [
    {
     "name": "stdout",
     "output_type": "stream",
     "text": [
      "\u001b[1m113/113\u001b[0m \u001b[32m━━━━━━━━━━━━━━━━━━━━\u001b[0m\u001b[37m\u001b[0m \u001b[1m0s\u001b[0m 2ms/step\n"
     ]
    },
    {
     "data": {
      "image/png": "[encoded data removed]",
      "text/plain": [
       "<Figure size 640x480 with 1 Axes>"
      ]
     },
     "metadata": {},
     "output_type": "display_data"
    }
   ],
   "source": [
    "# Get predictions for the test set\n",
    "y_pred = model1.predict(x_test)\n",
    "\n",
    "# Scatter plot of actual vs predicted values\n",
    "plt.scatter(y_test, y_pred)\n",
    "plt.title('Predicted vs Actual Values')\n",
    "plt.xlabel('Actual Values')\n",
    "plt.ylabel('Predicted Values')\n",
    "plt.show()"
   ]
  },
  {
   "cell_type": "code",
   "execution_count": 62,
   "metadata": {},
   "outputs": [
    {
     "name": "stdout",
     "output_type": "stream",
     "text": [
      "\u001b[1m113/113\u001b[0m \u001b[32m━━━━━━━━━━━━━━━━━━━━\u001b[0m\u001b[37m\u001b[0m \u001b[1m0s\u001b[0m 2ms/step\n"
     ]
    }
   ],
   "source": [
    "# Get predictions for the test set\n",
    "y_pred = model1.predict(x_test)\n",
    "\n",
    "# If y_test is a pandas Series, convert it to a NumPy array\n",
    "if isinstance(y_test, pd.Series):\n",
    "    y_test = y_test.values\n",
    "\n",
    "# Flatten y_pred if it's a 2D array\n",
    "y_pred = y_pred.flatten()\n",
    "\n",
    "# Calculate residuals (errors)\n",
    "residuals = y_test - y_pred"
   ]
  },
  {
   "cell_type": "code",
   "execution_count": 64,
   "metadata": {},
   "outputs": [
    {
     "data": {
      "image/png": "[encoded data removed]",
      "text/plain": [
       "<Figure size 640x480 with 1 Axes>"
      ]
     },
     "metadata": {},
     "output_type": "display_data"
    }
   ],
   "source": [
    "# Plot residuals\n",
    "plt.scatter(y_pred, residuals)\n",
    "plt.title('Residuals Plot')\n",
    "plt.xlabel('Predicted Values')\n",
    "plt.ylabel('Residuals (Actual - Predicted)')\n",
    "#plt.axhline(y=1, color='r', linestyle='-')\n",
    "plt.axhline(y=0, color='r', linestyle='-')\n",
    "plt.show()"
   ]
  },
  {
   "cell_type": "code",
   "execution_count": 65,
   "metadata": {},
   "outputs": [
    {
     "name": "stderr",
     "output_type": "stream",
     "text": [
      "WARNING:absl:You are saving your model as an HDF5 file via `model.save()` or `keras.saving.save_model(model)`. This file format is considered legacy. We recommend using instead the native Keras format, e.g. `model.save('my_model.keras')` or `keras.saving.save_model(model, 'my_model.keras')`. \n"
     ]
    }
   ],
   "source": [
    "model1.save(\"DL_Algo.h5\")"
   ]
  },
  {
   "cell_type": "code",
   "execution_count": 66,
   "metadata": {},
   "outputs": [
    {
     "name": "stderr",
     "output_type": "stream",
     "text": [
      "WARNING:absl:Compiled the loaded model, but the compiled metrics have yet to be built. `model.compile_metrics` will be empty until you train or evaluate the model.\n"
     ]
    }
   ],
   "source": [
    "new_model = load_model(\"DL_Algo.h5\")"
   ]
  },
  {
   "cell_type": "code",
   "execution_count": 67,
   "metadata": {},
   "outputs": [],
   "source": [
    "first_row = x_test.iloc[0].to_numpy()"
   ]
  },
  {
   "cell_type": "code",
   "execution_count": 68,
   "metadata": {},
   "outputs": [
    {
     "data": {
      "text/plain": [
       "array([  0.99, 160.  ,  10.99,   4.  ,  11.  ,   1.  ,   6.  ])"
      ]
     },
     "execution_count": 68,
     "metadata": {},
     "output_type": "execute_result"
    }
   ],
   "source": [
    "first_row"
   ]
  },
  {
   "cell_type": "code",
   "execution_count": 69,
   "metadata": {},
   "outputs": [
    {
     "name": "stdout",
     "output_type": "stream",
     "text": [
      "<class 'numpy.float64'>\n",
      "<class 'numpy.float64'>\n",
      "<class 'numpy.float64'>\n",
      "<class 'numpy.float64'>\n",
      "<class 'numpy.float64'>\n",
      "<class 'numpy.float64'>\n",
      "<class 'numpy.float64'>\n"
     ]
    }
   ],
   "source": [
    "for x in first_row:\n",
    "    print(type(x))"
   ]
  },
  {
   "cell_type": "code",
   "execution_count": 70,
   "metadata": {},
   "outputs": [
    {
     "name": "stdout",
     "output_type": "stream",
     "text": [
      "\u001b[1m1/1\u001b[0m \u001b[32m━━━━━━━━━━━━━━━━━━━━\u001b[0m\u001b[37m\u001b[0m \u001b[1m0s\u001b[0m 130ms/step\n"
     ]
    },
    {
     "data": {
      "text/plain": [
       "array([[2.8661718]], dtype=float32)"
      ]
     },
     "execution_count": 70,
     "metadata": {},
     "output_type": "execute_result"
    }
   ],
   "source": [
    "new_model.predict(np.array([first_row]))"
   ]
  },
  {
   "cell_type": "code",
   "execution_count": 71,
   "metadata": {},
   "outputs": [
    {
     "data": {
      "text/plain": [
       "Index(['rental_rate', 'length', 'replacement_cost', 'rating', 'category',\n",
       "       'active', 'rental_actual_duration'],\n",
       "      dtype='object')"
      ]
     },
     "execution_count": 71,
     "metadata": {},
     "output_type": "execute_result"
    }
   ],
   "source": [
    "x_test.columns"
   ]
  }
 ],
 "metadata": {
  "kernelspec": {
   "display_name": ".venv",
   "language": "python",
   "name": "python3"
  },
  "language_info": {
   "codemirror_mode": {
    "name": "ipython",
    "version": 3
   },
   "file_extension": ".py",
   "mimetype": "text/x-python",
   "name": "python",
   "nbconvert_exporter": "python",
   "pygments_lexer": "ipython3",
   "version": "3.12.4"
  }
 },
 "nbformat": 4,
 "nbformat_minor": 2
}
